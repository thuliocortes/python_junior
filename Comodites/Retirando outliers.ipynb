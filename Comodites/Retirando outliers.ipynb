{
 "cells": [
  {
   "cell_type": "code",
   "execution_count": 8,
   "id": "4e7f6eed",
   "metadata": {},
   "outputs": [],
   "source": [
    "import pandas as pd"
   ]
  },
  {
   "cell_type": "code",
   "execution_count": 34,
   "id": "952457d9",
   "metadata": {},
   "outputs": [
    {
     "data": {
      "text/html": [
       "<div>\n",
       "<style scoped>\n",
       "    .dataframe tbody tr th:only-of-type {\n",
       "        vertical-align: middle;\n",
       "    }\n",
       "\n",
       "    .dataframe tbody tr th {\n",
       "        vertical-align: top;\n",
       "    }\n",
       "\n",
       "    .dataframe thead th {\n",
       "        text-align: right;\n",
       "    }\n",
       "</style>\n",
       "<table border=\"1\" class=\"dataframe\">\n",
       "  <thead>\n",
       "    <tr style=\"text-align: right;\">\n",
       "      <th></th>\n",
       "      <th>data</th>\n",
       "      <th>todas_comodites</th>\n",
       "      <th>alimentos_e_bebidas</th>\n",
       "      <th>acucar</th>\n",
       "      <th>trigo</th>\n",
       "      <th>oleo_girassol</th>\n",
       "      <th>materiais_agricolas</th>\n",
       "    </tr>\n",
       "  </thead>\n",
       "  <tbody>\n",
       "    <tr>\n",
       "      <th>0</th>\n",
       "      <td>1980-01-01</td>\n",
       "      <td>NaN</td>\n",
       "      <td>NaN</td>\n",
       "      <td>17.299999</td>\n",
       "      <td>175.634750</td>\n",
       "      <td>566.926957</td>\n",
       "      <td>78.900146</td>\n",
       "    </tr>\n",
       "    <tr>\n",
       "      <th>1</th>\n",
       "      <td>1980-02-01</td>\n",
       "      <td>NaN</td>\n",
       "      <td>NaN</td>\n",
       "      <td>22.750000</td>\n",
       "      <td>172.695236</td>\n",
       "      <td>573.958609</td>\n",
       "      <td>75.715154</td>\n",
       "    </tr>\n",
       "    <tr>\n",
       "      <th>2</th>\n",
       "      <td>1980-03-01</td>\n",
       "      <td>NaN</td>\n",
       "      <td>NaN</td>\n",
       "      <td>19.630001</td>\n",
       "      <td>163.509323</td>\n",
       "      <td>535.284522</td>\n",
       "      <td>69.002475</td>\n",
       "    </tr>\n",
       "    <tr>\n",
       "      <th>3</th>\n",
       "      <td>1980-04-01</td>\n",
       "      <td>NaN</td>\n",
       "      <td>NaN</td>\n",
       "      <td>21.250000</td>\n",
       "      <td>156.528030</td>\n",
       "      <td>486.062957</td>\n",
       "      <td>67.877108</td>\n",
       "    </tr>\n",
       "    <tr>\n",
       "      <th>4</th>\n",
       "      <td>1980-05-01</td>\n",
       "      <td>NaN</td>\n",
       "      <td>NaN</td>\n",
       "      <td>30.939999</td>\n",
       "      <td>161.304703</td>\n",
       "      <td>502.763130</td>\n",
       "      <td>65.879671</td>\n",
       "    </tr>\n",
       "  </tbody>\n",
       "</table>\n",
       "</div>"
      ],
      "text/plain": [
       "         data  todas_comodites  alimentos_e_bebidas     acucar       trigo  \\\n",
       "0  1980-01-01              NaN                  NaN  17.299999  175.634750   \n",
       "1  1980-02-01              NaN                  NaN  22.750000  172.695236   \n",
       "2  1980-03-01              NaN                  NaN  19.630001  163.509323   \n",
       "3  1980-04-01              NaN                  NaN  21.250000  156.528030   \n",
       "4  1980-05-01              NaN                  NaN  30.939999  161.304703   \n",
       "\n",
       "   oleo_girassol  materiais_agricolas  \n",
       "0     566.926957            78.900146  \n",
       "1     573.958609            75.715154  \n",
       "2     535.284522            69.002475  \n",
       "3     486.062957            67.877108  \n",
       "4     502.763130            65.879671  "
      ]
     },
     "execution_count": 34,
     "metadata": {},
     "output_type": "execute_result"
    }
   ],
   "source": [
    "dados = pd.read_csv('dados/preco_comodites_principais.csv')\n",
    "dados.head()"
   ]
  },
  {
   "cell_type": "code",
   "execution_count": 35,
   "id": "d2d44117",
   "metadata": {},
   "outputs": [
    {
     "name": "stdout",
     "output_type": "stream",
     "text": [
      "<class 'pandas.core.frame.DataFrame'>\n",
      "RangeIndex: 434 entries, 0 to 433\n",
      "Data columns (total 7 columns):\n",
      " #   Column               Non-Null Count  Dtype  \n",
      "---  ------               --------------  -----  \n",
      " 0   data                 434 non-null    object \n",
      " 1   todas_comodites      290 non-null    float64\n",
      " 2   alimentos_e_bebidas  302 non-null    float64\n",
      " 3   acucar               434 non-null    float64\n",
      " 4   trigo                434 non-null    float64\n",
      " 5   oleo_girassol        434 non-null    float64\n",
      " 6   materiais_agricolas  434 non-null    float64\n",
      "dtypes: float64(6), object(1)\n",
      "memory usage: 23.9+ KB\n"
     ]
    }
   ],
   "source": [
    "dados.info()"
   ]
  },
  {
   "cell_type": "code",
   "execution_count": 38,
   "id": "f93d0fa3",
   "metadata": {},
   "outputs": [],
   "source": [
    "dados.dropna(subset = ['todas_comodites', 'alimentos_e_bebidas'], inplace = True)"
   ]
  },
  {
   "cell_type": "code",
   "execution_count": 40,
   "id": "f3804d6d",
   "metadata": {},
   "outputs": [],
   "source": [
    "dados.to_csv('dados/preco_comodites_principais_semna.csv', index = False)"
   ]
  },
  {
   "cell_type": "code",
   "execution_count": null,
   "id": "2205e6ec",
   "metadata": {},
   "outputs": [],
   "source": []
  }
 ],
 "metadata": {
  "kernelspec": {
   "display_name": "Python 3 (ipykernel)",
   "language": "python",
   "name": "python3"
  },
  "language_info": {
   "codemirror_mode": {
    "name": "ipython",
    "version": 3
   },
   "file_extension": ".py",
   "mimetype": "text/x-python",
   "name": "python",
   "nbconvert_exporter": "python",
   "pygments_lexer": "ipython3",
   "version": "3.9.12"
  }
 },
 "nbformat": 4,
 "nbformat_minor": 5
}
