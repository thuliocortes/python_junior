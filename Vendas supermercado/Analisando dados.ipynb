{
 "cells": [
  {
   "cell_type": "code",
   "execution_count": 65,
   "id": "b8103d07",
   "metadata": {},
   "outputs": [],
   "source": [
    "import pandas as pd\n",
    "import seaborn as sns\n",
    "import numpy as np"
   ]
  },
  {
   "cell_type": "code",
   "execution_count": 66,
   "id": "30ef8cd7",
   "metadata": {},
   "outputs": [
    {
     "data": {
      "text/html": [
       "<div>\n",
       "<style scoped>\n",
       "    .dataframe tbody tr th:only-of-type {\n",
       "        vertical-align: middle;\n",
       "    }\n",
       "\n",
       "    .dataframe tbody tr th {\n",
       "        vertical-align: top;\n",
       "    }\n",
       "\n",
       "    .dataframe thead th {\n",
       "        text-align: right;\n",
       "    }\n",
       "</style>\n",
       "<table border=\"1\" class=\"dataframe\">\n",
       "  <thead>\n",
       "    <tr style=\"text-align: right;\">\n",
       "      <th></th>\n",
       "      <th>cidade</th>\n",
       "      <th>tipo_cliente</th>\n",
       "      <th>genero</th>\n",
       "      <th>tipo_produto</th>\n",
       "      <th>preco</th>\n",
       "      <th>quantidade</th>\n",
       "      <th>taxa_5%</th>\n",
       "      <th>total</th>\n",
       "      <th>dia</th>\n",
       "      <th>hora</th>\n",
       "      <th>forma_pagamento</th>\n",
       "      <th>margem_lucro</th>\n",
       "      <th>renda_bruta</th>\n",
       "      <th>avaliacao</th>\n",
       "    </tr>\n",
       "  </thead>\n",
       "  <tbody>\n",
       "    <tr>\n",
       "      <th>0</th>\n",
       "      <td>Yangon</td>\n",
       "      <td>Member</td>\n",
       "      <td>Feminino</td>\n",
       "      <td>Saúde e Beleza</td>\n",
       "      <td>74.69</td>\n",
       "      <td>7</td>\n",
       "      <td>26.1415</td>\n",
       "      <td>548.9715</td>\n",
       "      <td>1/5/2019</td>\n",
       "      <td>13:08</td>\n",
       "      <td>Carteira Digital</td>\n",
       "      <td>4.761905</td>\n",
       "      <td>26.1415</td>\n",
       "      <td>9.1</td>\n",
       "    </tr>\n",
       "    <tr>\n",
       "      <th>1</th>\n",
       "      <td>Naypyitaw</td>\n",
       "      <td>Normal</td>\n",
       "      <td>Feminino</td>\n",
       "      <td>Eletrônicos</td>\n",
       "      <td>15.28</td>\n",
       "      <td>5</td>\n",
       "      <td>3.8200</td>\n",
       "      <td>80.2200</td>\n",
       "      <td>3/8/2019</td>\n",
       "      <td>10:29</td>\n",
       "      <td>Dinheiro</td>\n",
       "      <td>4.761905</td>\n",
       "      <td>3.8200</td>\n",
       "      <td>9.6</td>\n",
       "    </tr>\n",
       "    <tr>\n",
       "      <th>2</th>\n",
       "      <td>Yangon</td>\n",
       "      <td>Normal</td>\n",
       "      <td>Masculino</td>\n",
       "      <td>Casa</td>\n",
       "      <td>46.33</td>\n",
       "      <td>7</td>\n",
       "      <td>16.2155</td>\n",
       "      <td>340.5255</td>\n",
       "      <td>3/3/2019</td>\n",
       "      <td>13:23</td>\n",
       "      <td>Cartão de Crédito</td>\n",
       "      <td>4.761905</td>\n",
       "      <td>16.2155</td>\n",
       "      <td>7.4</td>\n",
       "    </tr>\n",
       "    <tr>\n",
       "      <th>3</th>\n",
       "      <td>Yangon</td>\n",
       "      <td>Member</td>\n",
       "      <td>Masculino</td>\n",
       "      <td>Saúde e Beleza</td>\n",
       "      <td>58.22</td>\n",
       "      <td>8</td>\n",
       "      <td>23.2880</td>\n",
       "      <td>489.0480</td>\n",
       "      <td>1/27/2019</td>\n",
       "      <td>20:33</td>\n",
       "      <td>Carteira Digital</td>\n",
       "      <td>4.761905</td>\n",
       "      <td>23.2880</td>\n",
       "      <td>8.4</td>\n",
       "    </tr>\n",
       "    <tr>\n",
       "      <th>4</th>\n",
       "      <td>Yangon</td>\n",
       "      <td>Normal</td>\n",
       "      <td>Masculino</td>\n",
       "      <td>Esportes</td>\n",
       "      <td>86.31</td>\n",
       "      <td>7</td>\n",
       "      <td>30.2085</td>\n",
       "      <td>634.3785</td>\n",
       "      <td>2/8/2019</td>\n",
       "      <td>10:37</td>\n",
       "      <td>Carteira Digital</td>\n",
       "      <td>4.761905</td>\n",
       "      <td>30.2085</td>\n",
       "      <td>5.3</td>\n",
       "    </tr>\n",
       "  </tbody>\n",
       "</table>\n",
       "</div>"
      ],
      "text/plain": [
       "      cidade tipo_cliente     genero    tipo_produto  preco  quantidade  \\\n",
       "0     Yangon       Member   Feminino  Saúde e Beleza  74.69           7   \n",
       "1  Naypyitaw       Normal   Feminino     Eletrônicos  15.28           5   \n",
       "2     Yangon       Normal  Masculino            Casa  46.33           7   \n",
       "3     Yangon       Member  Masculino  Saúde e Beleza  58.22           8   \n",
       "4     Yangon       Normal  Masculino        Esportes  86.31           7   \n",
       "\n",
       "   taxa_5%     total        dia   hora    forma_pagamento  margem_lucro  \\\n",
       "0  26.1415  548.9715   1/5/2019  13:08   Carteira Digital      4.761905   \n",
       "1   3.8200   80.2200   3/8/2019  10:29           Dinheiro      4.761905   \n",
       "2  16.2155  340.5255   3/3/2019  13:23  Cartão de Crédito      4.761905   \n",
       "3  23.2880  489.0480  1/27/2019  20:33   Carteira Digital      4.761905   \n",
       "4  30.2085  634.3785   2/8/2019  10:37   Carteira Digital      4.761905   \n",
       "\n",
       "   renda_bruta  avaliacao  \n",
       "0      26.1415        9.1  \n",
       "1       3.8200        9.6  \n",
       "2      16.2155        7.4  \n",
       "3      23.2880        8.4  \n",
       "4      30.2085        5.3  "
      ]
     },
     "execution_count": 66,
     "metadata": {},
     "output_type": "execute_result"
    }
   ],
   "source": [
    "dados = pd.read_csv('vendas_supermercado.csv')\n",
    "dados.head()"
   ]
  },
  {
   "cell_type": "code",
   "execution_count": 67,
   "id": "9fa4de8f",
   "metadata": {},
   "outputs": [
    {
     "data": {
      "text/plain": [
       "cidade              object\n",
       "tipo_cliente        object\n",
       "genero              object\n",
       "tipo_produto        object\n",
       "preco              float64\n",
       "quantidade           int64\n",
       "taxa_5%            float64\n",
       "total              float64\n",
       "dia                 object\n",
       "hora                object\n",
       "forma_pagamento     object\n",
       "margem_lucro       float64\n",
       "renda_bruta        float64\n",
       "avaliacao          float64\n",
       "dtype: object"
      ]
     },
     "execution_count": 67,
     "metadata": {},
     "output_type": "execute_result"
    }
   ],
   "source": [
    "dados.dtypes"
   ]
  },
  {
   "cell_type": "code",
   "execution_count": 68,
   "id": "4381700a",
   "metadata": {},
   "outputs": [
    {
     "name": "stdout",
     "output_type": "stream",
     "text": [
      "Essa tabela possui 0 valores nulos\n"
     ]
    }
   ],
   "source": [
    "print('Essa tabela possui {} valores nulos'.format(dados.isna().sum().sum()))"
   ]
  },
  {
   "cell_type": "code",
   "execution_count": 69,
   "id": "87a7713b",
   "metadata": {},
   "outputs": [
    {
     "data": {
      "text/html": [
       "<div>\n",
       "<style scoped>\n",
       "    .dataframe tbody tr th:only-of-type {\n",
       "        vertical-align: middle;\n",
       "    }\n",
       "\n",
       "    .dataframe tbody tr th {\n",
       "        vertical-align: top;\n",
       "    }\n",
       "\n",
       "    .dataframe thead th {\n",
       "        text-align: right;\n",
       "    }\n",
       "</style>\n",
       "<table border=\"1\" class=\"dataframe\">\n",
       "  <thead>\n",
       "    <tr style=\"text-align: right;\">\n",
       "      <th></th>\n",
       "      <th>preco</th>\n",
       "      <th>quantidade</th>\n",
       "      <th>taxa_5%</th>\n",
       "      <th>total</th>\n",
       "      <th>margem_lucro</th>\n",
       "      <th>renda_bruta</th>\n",
       "      <th>avaliacao</th>\n",
       "    </tr>\n",
       "  </thead>\n",
       "  <tbody>\n",
       "    <tr>\n",
       "      <th>count</th>\n",
       "      <td>1000.00</td>\n",
       "      <td>1000.00</td>\n",
       "      <td>1000.00</td>\n",
       "      <td>1000.00</td>\n",
       "      <td>1000.00</td>\n",
       "      <td>1000.00</td>\n",
       "      <td>1000.00</td>\n",
       "    </tr>\n",
       "    <tr>\n",
       "      <th>mean</th>\n",
       "      <td>55.67</td>\n",
       "      <td>5.51</td>\n",
       "      <td>15.38</td>\n",
       "      <td>322.97</td>\n",
       "      <td>4.76</td>\n",
       "      <td>15.38</td>\n",
       "      <td>6.97</td>\n",
       "    </tr>\n",
       "    <tr>\n",
       "      <th>std</th>\n",
       "      <td>26.49</td>\n",
       "      <td>2.92</td>\n",
       "      <td>11.71</td>\n",
       "      <td>245.89</td>\n",
       "      <td>0.00</td>\n",
       "      <td>11.71</td>\n",
       "      <td>1.72</td>\n",
       "    </tr>\n",
       "    <tr>\n",
       "      <th>min</th>\n",
       "      <td>10.08</td>\n",
       "      <td>1.00</td>\n",
       "      <td>0.51</td>\n",
       "      <td>10.68</td>\n",
       "      <td>4.76</td>\n",
       "      <td>0.51</td>\n",
       "      <td>4.00</td>\n",
       "    </tr>\n",
       "    <tr>\n",
       "      <th>25%</th>\n",
       "      <td>32.88</td>\n",
       "      <td>3.00</td>\n",
       "      <td>5.92</td>\n",
       "      <td>124.42</td>\n",
       "      <td>4.76</td>\n",
       "      <td>5.92</td>\n",
       "      <td>5.50</td>\n",
       "    </tr>\n",
       "    <tr>\n",
       "      <th>50%</th>\n",
       "      <td>55.23</td>\n",
       "      <td>5.00</td>\n",
       "      <td>12.09</td>\n",
       "      <td>253.85</td>\n",
       "      <td>4.76</td>\n",
       "      <td>12.09</td>\n",
       "      <td>7.00</td>\n",
       "    </tr>\n",
       "    <tr>\n",
       "      <th>75%</th>\n",
       "      <td>77.94</td>\n",
       "      <td>8.00</td>\n",
       "      <td>22.45</td>\n",
       "      <td>471.35</td>\n",
       "      <td>4.76</td>\n",
       "      <td>22.45</td>\n",
       "      <td>8.50</td>\n",
       "    </tr>\n",
       "    <tr>\n",
       "      <th>max</th>\n",
       "      <td>99.96</td>\n",
       "      <td>10.00</td>\n",
       "      <td>49.65</td>\n",
       "      <td>1042.65</td>\n",
       "      <td>4.76</td>\n",
       "      <td>49.65</td>\n",
       "      <td>10.00</td>\n",
       "    </tr>\n",
       "  </tbody>\n",
       "</table>\n",
       "</div>"
      ],
      "text/plain": [
       "         preco  quantidade  taxa_5%    total  margem_lucro  renda_bruta  \\\n",
       "count  1000.00     1000.00  1000.00  1000.00       1000.00      1000.00   \n",
       "mean     55.67        5.51    15.38   322.97          4.76        15.38   \n",
       "std      26.49        2.92    11.71   245.89          0.00        11.71   \n",
       "min      10.08        1.00     0.51    10.68          4.76         0.51   \n",
       "25%      32.88        3.00     5.92   124.42          4.76         5.92   \n",
       "50%      55.23        5.00    12.09   253.85          4.76        12.09   \n",
       "75%      77.94        8.00    22.45   471.35          4.76        22.45   \n",
       "max      99.96       10.00    49.65  1042.65          4.76        49.65   \n",
       "\n",
       "       avaliacao  \n",
       "count    1000.00  \n",
       "mean        6.97  \n",
       "std         1.72  \n",
       "min         4.00  \n",
       "25%         5.50  \n",
       "50%         7.00  \n",
       "75%         8.50  \n",
       "max        10.00  "
      ]
     },
     "execution_count": 69,
     "metadata": {},
     "output_type": "execute_result"
    }
   ],
   "source": [
    "dados.describe().round(2)"
   ]
  },
  {
   "cell_type": "code",
   "execution_count": 70,
   "id": "705e8c99",
   "metadata": {},
   "outputs": [
    {
     "data": {
      "text/html": [
       "<div>\n",
       "<style scoped>\n",
       "    .dataframe tbody tr th:only-of-type {\n",
       "        vertical-align: middle;\n",
       "    }\n",
       "\n",
       "    .dataframe tbody tr th {\n",
       "        vertical-align: top;\n",
       "    }\n",
       "\n",
       "    .dataframe thead th {\n",
       "        text-align: right;\n",
       "    }\n",
       "</style>\n",
       "<table border=\"1\" class=\"dataframe\">\n",
       "  <thead>\n",
       "    <tr style=\"text-align: right;\">\n",
       "      <th></th>\n",
       "      <th>cidade</th>\n",
       "      <th>tipo_cliente</th>\n",
       "      <th>genero</th>\n",
       "      <th>tipo_produto</th>\n",
       "      <th>preco</th>\n",
       "      <th>quantidade</th>\n",
       "      <th>taxa_5%</th>\n",
       "      <th>total</th>\n",
       "      <th>dia</th>\n",
       "      <th>hora</th>\n",
       "      <th>forma_pagamento</th>\n",
       "      <th>margem_lucro</th>\n",
       "      <th>renda_bruta</th>\n",
       "      <th>avaliacao</th>\n",
       "    </tr>\n",
       "  </thead>\n",
       "  <tbody>\n",
       "    <tr>\n",
       "      <th>0</th>\n",
       "      <td>Yangon</td>\n",
       "      <td>Member</td>\n",
       "      <td>Feminino</td>\n",
       "      <td>Saúde e Beleza</td>\n",
       "      <td>74.69</td>\n",
       "      <td>7</td>\n",
       "      <td>26.1415</td>\n",
       "      <td>548.9715</td>\n",
       "      <td>1/5/2019</td>\n",
       "      <td>13:08</td>\n",
       "      <td>Carteira Digital</td>\n",
       "      <td>4.761905</td>\n",
       "      <td>26.1415</td>\n",
       "      <td>9.1</td>\n",
       "    </tr>\n",
       "    <tr>\n",
       "      <th>1</th>\n",
       "      <td>Naypyitaw</td>\n",
       "      <td>Normal</td>\n",
       "      <td>Feminino</td>\n",
       "      <td>Eletrônicos</td>\n",
       "      <td>15.28</td>\n",
       "      <td>5</td>\n",
       "      <td>3.8200</td>\n",
       "      <td>80.2200</td>\n",
       "      <td>3/8/2019</td>\n",
       "      <td>10:29</td>\n",
       "      <td>Dinheiro</td>\n",
       "      <td>4.761905</td>\n",
       "      <td>3.8200</td>\n",
       "      <td>9.6</td>\n",
       "    </tr>\n",
       "    <tr>\n",
       "      <th>2</th>\n",
       "      <td>Yangon</td>\n",
       "      <td>Normal</td>\n",
       "      <td>Masculino</td>\n",
       "      <td>Casa</td>\n",
       "      <td>46.33</td>\n",
       "      <td>7</td>\n",
       "      <td>16.2155</td>\n",
       "      <td>340.5255</td>\n",
       "      <td>3/3/2019</td>\n",
       "      <td>13:23</td>\n",
       "      <td>Cartão de Crédito</td>\n",
       "      <td>4.761905</td>\n",
       "      <td>16.2155</td>\n",
       "      <td>7.4</td>\n",
       "    </tr>\n",
       "    <tr>\n",
       "      <th>3</th>\n",
       "      <td>Yangon</td>\n",
       "      <td>Member</td>\n",
       "      <td>Masculino</td>\n",
       "      <td>Saúde e Beleza</td>\n",
       "      <td>58.22</td>\n",
       "      <td>8</td>\n",
       "      <td>23.2880</td>\n",
       "      <td>489.0480</td>\n",
       "      <td>1/27/2019</td>\n",
       "      <td>20:33</td>\n",
       "      <td>Carteira Digital</td>\n",
       "      <td>4.761905</td>\n",
       "      <td>23.2880</td>\n",
       "      <td>8.4</td>\n",
       "    </tr>\n",
       "    <tr>\n",
       "      <th>4</th>\n",
       "      <td>Yangon</td>\n",
       "      <td>Normal</td>\n",
       "      <td>Masculino</td>\n",
       "      <td>Esportes</td>\n",
       "      <td>86.31</td>\n",
       "      <td>7</td>\n",
       "      <td>30.2085</td>\n",
       "      <td>634.3785</td>\n",
       "      <td>2/8/2019</td>\n",
       "      <td>10:37</td>\n",
       "      <td>Carteira Digital</td>\n",
       "      <td>4.761905</td>\n",
       "      <td>30.2085</td>\n",
       "      <td>5.3</td>\n",
       "    </tr>\n",
       "  </tbody>\n",
       "</table>\n",
       "</div>"
      ],
      "text/plain": [
       "      cidade tipo_cliente     genero    tipo_produto  preco  quantidade  \\\n",
       "0     Yangon       Member   Feminino  Saúde e Beleza  74.69           7   \n",
       "1  Naypyitaw       Normal   Feminino     Eletrônicos  15.28           5   \n",
       "2     Yangon       Normal  Masculino            Casa  46.33           7   \n",
       "3     Yangon       Member  Masculino  Saúde e Beleza  58.22           8   \n",
       "4     Yangon       Normal  Masculino        Esportes  86.31           7   \n",
       "\n",
       "   taxa_5%     total        dia   hora    forma_pagamento  margem_lucro  \\\n",
       "0  26.1415  548.9715   1/5/2019  13:08   Carteira Digital      4.761905   \n",
       "1   3.8200   80.2200   3/8/2019  10:29           Dinheiro      4.761905   \n",
       "2  16.2155  340.5255   3/3/2019  13:23  Cartão de Crédito      4.761905   \n",
       "3  23.2880  489.0480  1/27/2019  20:33   Carteira Digital      4.761905   \n",
       "4  30.2085  634.3785   2/8/2019  10:37   Carteira Digital      4.761905   \n",
       "\n",
       "   renda_bruta  avaliacao  \n",
       "0      26.1415        9.1  \n",
       "1       3.8200        9.6  \n",
       "2      16.2155        7.4  \n",
       "3      23.2880        8.4  \n",
       "4      30.2085        5.3  "
      ]
     },
     "execution_count": 70,
     "metadata": {},
     "output_type": "execute_result"
    }
   ],
   "source": [
    "dados.head()"
   ]
  },
  {
   "cell_type": "code",
   "execution_count": 71,
   "id": "c88852e5",
   "metadata": {},
   "outputs": [
    {
     "data": {
      "text/html": [
       "<div>\n",
       "<style scoped>\n",
       "    .dataframe tbody tr th:only-of-type {\n",
       "        vertical-align: middle;\n",
       "    }\n",
       "\n",
       "    .dataframe tbody tr th {\n",
       "        vertical-align: top;\n",
       "    }\n",
       "\n",
       "    .dataframe thead th {\n",
       "        text-align: right;\n",
       "    }\n",
       "</style>\n",
       "<table border=\"1\" class=\"dataframe\">\n",
       "  <thead>\n",
       "    <tr style=\"text-align: right;\">\n",
       "      <th>forma_pagamento</th>\n",
       "      <th>Carteira Digital</th>\n",
       "      <th>Cartão de Crédito</th>\n",
       "      <th>Dinheiro</th>\n",
       "    </tr>\n",
       "    <tr>\n",
       "      <th>genero</th>\n",
       "      <th></th>\n",
       "      <th></th>\n",
       "      <th></th>\n",
       "    </tr>\n",
       "  </thead>\n",
       "  <tbody>\n",
       "    <tr>\n",
       "      <th>Feminino</th>\n",
       "      <td>160</td>\n",
       "      <td>163</td>\n",
       "      <td>178</td>\n",
       "    </tr>\n",
       "    <tr>\n",
       "      <th>Masculino</th>\n",
       "      <td>185</td>\n",
       "      <td>148</td>\n",
       "      <td>166</td>\n",
       "    </tr>\n",
       "  </tbody>\n",
       "</table>\n",
       "</div>"
      ],
      "text/plain": [
       "forma_pagamento  Carteira Digital  Cartão de Crédito  Dinheiro\n",
       "genero                                                        \n",
       "Feminino                      160                163       178\n",
       "Masculino                     185                148       166"
      ]
     },
     "execution_count": 71,
     "metadata": {},
     "output_type": "execute_result"
    }
   ],
   "source": [
    "freuqencia = pd.crosstab(dados.genero, dados.forma_pagamento)\n",
    "freuqencia"
   ]
  },
  {
   "cell_type": "markdown",
   "id": "9da3a23f",
   "metadata": {},
   "source": [
    "#### Os gastos são bem distribuidos entre os tipos de pagamentos"
   ]
  },
  {
   "cell_type": "markdown",
   "id": "62040ca5",
   "metadata": {},
   "source": [
    "# Média de Gastos por gênero e forma de pagamento"
   ]
  },
  {
   "cell_type": "code",
   "execution_count": 72,
   "id": "3c9edc42",
   "metadata": {},
   "outputs": [
    {
     "data": {
      "text/html": [
       "<div>\n",
       "<style scoped>\n",
       "    .dataframe tbody tr th:only-of-type {\n",
       "        vertical-align: middle;\n",
       "    }\n",
       "\n",
       "    .dataframe tbody tr th {\n",
       "        vertical-align: top;\n",
       "    }\n",
       "\n",
       "    .dataframe thead th {\n",
       "        text-align: right;\n",
       "    }\n",
       "</style>\n",
       "<table border=\"1\" class=\"dataframe\">\n",
       "  <thead>\n",
       "    <tr style=\"text-align: right;\">\n",
       "      <th>forma_pagamento</th>\n",
       "      <th>Carteira Digital</th>\n",
       "      <th>Cartão de Crédito</th>\n",
       "      <th>Dinheiro</th>\n",
       "    </tr>\n",
       "    <tr>\n",
       "      <th>genero</th>\n",
       "      <th></th>\n",
       "      <th></th>\n",
       "      <th></th>\n",
       "    </tr>\n",
       "  </thead>\n",
       "  <tbody>\n",
       "    <tr>\n",
       "      <th>Feminino</th>\n",
       "      <td>342.94</td>\n",
       "      <td>328.21</td>\n",
       "      <td>334.35</td>\n",
       "    </tr>\n",
       "    <tr>\n",
       "      <th>Masculino</th>\n",
       "      <td>297.96</td>\n",
       "      <td>319.38</td>\n",
       "      <td>317.42</td>\n",
       "    </tr>\n",
       "  </tbody>\n",
       "</table>\n",
       "</div>"
      ],
      "text/plain": [
       "forma_pagamento  Carteira Digital  Cartão de Crédito  Dinheiro\n",
       "genero                                                        \n",
       "Feminino                   342.94             328.21    334.35\n",
       "Masculino                  297.96             319.38    317.42"
      ]
     },
     "execution_count": 72,
     "metadata": {},
     "output_type": "execute_result"
    }
   ],
   "source": [
    "media_gastos = pd.crosstab(dados.genero, dados.forma_pagamento, aggfunc= 'mean', values = dados.total)\n",
    "media_gastos.round(2)"
   ]
  },
  {
   "cell_type": "code",
   "execution_count": 73,
   "id": "1f609562",
   "metadata": {},
   "outputs": [
    {
     "data": {
      "image/png": "[encoded data removed]",
      "text/plain": [
       "<Figure size 1008x576 with 1 Axes>"
      ]
     },
     "metadata": {},
     "output_type": "display_data"
    }
   ],
   "source": [
    "sns.set_style('whitegrid')\n",
    "sns.set_palette('RdGy')\n",
    "ax= sns.barplot(x= dados.genero, y= dados.total, hue= dados.forma_pagamento, data= dados)\n",
    "ax.figure.set_size_inches(14, 8)\n",
    "ax.set_title('Valores médios gastos por gênero e forma de pagamento', fontsize = 18)\n",
    "ax= ax"
   ]
  },
  {
   "cell_type": "markdown",
   "id": "36ce3fd5",
   "metadata": {},
   "source": [
    "#### Os valores médios gastos por gênero e por forma de pagamento não tem diferença significativa"
   ]
  },
  {
   "cell_type": "markdown",
   "id": "387a6afd",
   "metadata": {},
   "source": [
    "# Distribuição dos gastos"
   ]
  },
  {
   "cell_type": "code",
   "execution_count": 74,
   "id": "e52d0348",
   "metadata": {},
   "outputs": [
    {
     "data": {
      "image/png": "[encoded data removed]",
      "text/plain": [
       "<Figure size 1008x576 with 1 Axes>"
      ]
     },
     "metadata": {},
     "output_type": "display_data"
    }
   ],
   "source": [
    "sns.set_palette(\"Blues_r\")\n",
    "ax= sns.histplot(y= dados.total, data = dados, bins= 20)\n",
    "ax.figure.set_size_inches(14, 8)\n",
    "ax.set_title('Distribuição dos gastos', fontsize = 18)\n",
    "ax.set_ylabel('Gastos ($)', fontsize = 14)\n",
    "ax.set_xlabel('Total de Pessoas', fontsize = 14)\n",
    "ax = ax\n"
   ]
  },
  {
   "cell_type": "markdown",
   "id": "ba990fd7",
   "metadata": {},
   "source": [
    "#### A maioria das pessoas gastam em média de 100 a 200 dolares por compra"
   ]
  },
  {
   "cell_type": "markdown",
   "id": "c64d22c9",
   "metadata": {},
   "source": [
    "# Distribuição dos gastos por Tipo de Produto"
   ]
  },
  {
   "cell_type": "code",
   "execution_count": 88,
   "id": "527cdb93",
   "metadata": {},
   "outputs": [
    {
     "data": {
      "image/png": "[encoded data removed]",
      "text/plain": [
       "<Figure size 1008x504 with 1 Axes>"
      ]
     },
     "metadata": {},
     "output_type": "display_data"
    }
   ],
   "source": [
    "sns.set_palette('summer_r')\n",
    "ax = sns.barplot(x = 'tipo_produto', y = 'total', data = dados)\n",
    "ax.figure.set_size_inches(14, 7)\n",
    "ax.set_title(\"Distribuição dos Gastos por Tipo de Produto\", fontsize = 18)\n",
    "ax.set_ylabel('Gastos ($)', fontsize = 14)\n",
    "ax.set_xlabel('Tipo de Produto', fontsize = 14)\n",
    "ax= ax"
   ]
  },
  {
   "cell_type": "markdown",
   "id": "06c01c4e",
   "metadata": {},
   "source": [
    "#### O gasto médio por produto é similiar em todas as categorias, sendo os do tipo casa e esporte os que tem o maior gasto médio"
   ]
  },
  {
   "cell_type": "markdown",
   "id": "8e130e4b",
   "metadata": {},
   "source": [
    "# Distribuição da Renda por Forma de Pagamento"
   ]
  },
  {
   "cell_type": "code",
   "execution_count": 99,
   "id": "eb61de84",
   "metadata": {},
   "outputs": [
    {
     "data": {
      "image/png": "[encoded data removed]",
      "text/plain": [
       "<Figure size 864x648 with 1 Axes>"
      ]
     },
     "metadata": {},
     "output_type": "display_data"
    }
   ],
   "source": [
    "sns.set_palette('Accent')\n",
    "ax = sns.barplot(x = 'forma_pagamento', y = 'renda_bruta', data = dados)\n",
    "ax.figure.set_size_inches(12, 9)\n",
    "ax.set_title(\"Distribuição da Renda bruta por forma de pagamento\", fontsize = 18)\n",
    "ax.set_ylabel('Renda ($)', fontsize = 14)\n",
    "ax.set_xlabel('Forma de Pagamento', fontsize = 14)\n",
    "ax= ax"
   ]
  },
  {
   "cell_type": "markdown",
   "id": "79a5805c",
   "metadata": {},
   "source": [
    "# Distribuição de Renda por Tipo de Produto"
   ]
  },
  {
   "cell_type": "code",
   "execution_count": 109,
   "id": "8269dbfa",
   "metadata": {},
   "outputs": [
    {
     "data": {
      "image/png": "[encoded data removed]",
      "text/plain": [
       "<Figure size 1008x648 with 1 Axes>"
      ]
     },
     "metadata": {},
     "output_type": "display_data"
    }
   ],
   "source": [
    "sns.set_palette('hsv_r')\n",
    "ax = sns.barplot(x = 'tipo_produto', y = 'renda_bruta', data = dados)\n",
    "ax.figure.set_size_inches(14, 9)\n",
    "ax.set_title(\"Distribuição da Renda bruta por Tipo de Produto\", fontsize = 18)\n",
    "ax.set_ylabel('Renda ($)', fontsize = 14)\n",
    "ax.set_xlabel('Tipo de Produto', fontsize = 14)\n",
    "ax= ax"
   ]
  },
  {
   "cell_type": "markdown",
   "id": "b827a7f2",
   "metadata": {},
   "source": [
    "#### A renda bruta é maior nos segmentos de casa e esportes"
   ]
  },
  {
   "cell_type": "markdown",
   "id": "8013db48",
   "metadata": {},
   "source": [
    "# Distribuição de Gastos de Membros e não Membros"
   ]
  },
  {
   "cell_type": "code",
   "execution_count": 116,
   "id": "f9dd0358",
   "metadata": {},
   "outputs": [
    {
     "data": {
      "image/png": "[encoded data removed]",
      "text/plain": [
       "<Figure size 1008x648 with 1 Axes>"
      ]
     },
     "metadata": {},
     "output_type": "display_data"
    }
   ],
   "source": [
    "sns.set_palette('ocean_r')\n",
    "ax= sns.boxplot(x= 'total', y = 'tipo_cliente', data = dados)\n",
    "ax.figure.set_size_inches(14, 9)\n",
    "ax.set_title(\"Distribuição de Gasto de Membros e Não Membros\", fontsize = 18)\n",
    "ax.set_ylabel('Tipo de Cliente', fontsize = 14)\n",
    "ax.set_xlabel('Gastos ($)', fontsize = 14)\n",
    "ax= ax"
   ]
  },
  {
   "cell_type": "code",
   "execution_count": 117,
   "id": "7785ac56",
   "metadata": {},
   "outputs": [
    {
     "data": {
      "text/html": [
       "<div>\n",
       "<style scoped>\n",
       "    .dataframe tbody tr th:only-of-type {\n",
       "        vertical-align: middle;\n",
       "    }\n",
       "\n",
       "    .dataframe tbody tr th {\n",
       "        vertical-align: top;\n",
       "    }\n",
       "\n",
       "    .dataframe thead th {\n",
       "        text-align: right;\n",
       "    }\n",
       "</style>\n",
       "<table border=\"1\" class=\"dataframe\">\n",
       "  <thead>\n",
       "    <tr style=\"text-align: right;\">\n",
       "      <th>forma_pagamento</th>\n",
       "      <th>Carteira Digital</th>\n",
       "      <th>Cartão de Crédito</th>\n",
       "      <th>Dinheiro</th>\n",
       "    </tr>\n",
       "    <tr>\n",
       "      <th>tipo_cliente</th>\n",
       "      <th></th>\n",
       "      <th></th>\n",
       "      <th></th>\n",
       "    </tr>\n",
       "  </thead>\n",
       "  <tbody>\n",
       "    <tr>\n",
       "      <th>Member</th>\n",
       "      <td>321.68</td>\n",
       "      <td>335.88</td>\n",
       "      <td>325.36</td>\n",
       "    </tr>\n",
       "    <tr>\n",
       "      <th>Normal</th>\n",
       "      <td>316.32</td>\n",
       "      <td>309.32</td>\n",
       "      <td>326.96</td>\n",
       "    </tr>\n",
       "  </tbody>\n",
       "</table>\n",
       "</div>"
      ],
      "text/plain": [
       "forma_pagamento  Carteira Digital  Cartão de Crédito  Dinheiro\n",
       "tipo_cliente                                                  \n",
       "Member                     321.68             335.88    325.36\n",
       "Normal                     316.32             309.32    326.96"
      ]
     },
     "execution_count": 117,
     "metadata": {},
     "output_type": "execute_result"
    }
   ],
   "source": [
    "media_gastos_fil = pd.crosstab(dados.tipo_cliente, dados.forma_pagamento, aggfunc= 'mean', values = dados.total)\n",
    "media_gastos_fil.round(2)"
   ]
  },
  {
   "cell_type": "markdown",
   "id": "db9be26b",
   "metadata": {},
   "source": [
    "#### Os membros Gastam em média um pouco mais do que os clientes normais principalmente no cartão de crédito"
   ]
  },
  {
   "cell_type": "code",
   "execution_count": null,
   "id": "6720012e",
   "metadata": {},
   "outputs": [],
   "source": []
  }
 ],
 "metadata": {
  "kernelspec": {
   "display_name": "Python 3 (ipykernel)",
   "language": "python",
   "name": "python3"
  },
  "language_info": {
   "codemirror_mode": {
    "name": "ipython",
    "version": 3
   },
   "file_extension": ".py",
   "mimetype": "text/x-python",
   "name": "python",
   "nbconvert_exporter": "python",
   "pygments_lexer": "ipython3",
   "version": "3.9.12"
  }
 },
 "nbformat": 4,
 "nbformat_minor": 5
}
