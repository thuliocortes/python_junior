{
 "cells": [
  {
   "cell_type": "code",
   "execution_count": 26,
   "metadata": {
    "id": "88_cxzBAAt2y"
   },
   "outputs": [],
   "source": [
    "import pandas as pd"
   ]
  },
  {
   "cell_type": "code",
   "execution_count": 27,
   "metadata": {
    "id": "Ql6fm5mpA9M0"
   },
   "outputs": [],
   "source": [
    "import numpy as np"
   ]
  },
  {
   "cell_type": "code",
   "execution_count": 28,
   "metadata": {
    "id": "oht4_vxoA_8W"
   },
   "outputs": [],
   "source": [
    "import seaborn as sns"
   ]
  },
  {
   "cell_type": "code",
   "execution_count": 29,
   "metadata": {
    "id": "MAajfaTWBCVr"
   },
   "outputs": [],
   "source": [
    "gastos = pd.read_csv(\"dados/University-Students-Monthly-Expenses.csv\")"
   ]
  },
  {
   "cell_type": "markdown",
   "metadata": {
    "id": "YBRlSFVwLq6F"
   },
   "source": [
    "# Análise Geral"
   ]
  },
  {
   "cell_type": "code",
   "execution_count": 30,
   "metadata": {
    "id": "xZrt-S57CJJS"
   },
   "outputs": [],
   "source": [
    "gastos.columns = [\"genero\", \"idade\", \"ano_estudo\", \"reside\", \"bolsa\", \"trabalho\", \"transporte\", \"fuma\", \"bebe\", \"joga\", \"cosmeticos\", \"assinaturas\", \"gastos_mensais\"]"
   ]
  },
  {
   "cell_type": "code",
   "execution_count": 31,
   "metadata": {
    "colab": {
     "base_uri": "https://localhost:8080/",
     "height": 206
    },
    "id": "8hxUyfS7DW4M",
    "outputId": "4e38b605-d7c1-47e4-9206-ed664c0524e6"
   },
   "outputs": [
    {
     "data": {
      "text/html": [
       "<div>\n",
       "<style scoped>\n",
       "    .dataframe tbody tr th:only-of-type {\n",
       "        vertical-align: middle;\n",
       "    }\n",
       "\n",
       "    .dataframe tbody tr th {\n",
       "        vertical-align: top;\n",
       "    }\n",
       "\n",
       "    .dataframe thead th {\n",
       "        text-align: right;\n",
       "    }\n",
       "</style>\n",
       "<table border=\"1\" class=\"dataframe\">\n",
       "  <thead>\n",
       "    <tr style=\"text-align: right;\">\n",
       "      <th></th>\n",
       "      <th>genero</th>\n",
       "      <th>idade</th>\n",
       "      <th>ano_estudo</th>\n",
       "      <th>reside</th>\n",
       "      <th>bolsa</th>\n",
       "      <th>trabalho</th>\n",
       "      <th>transporte</th>\n",
       "      <th>fuma</th>\n",
       "      <th>bebe</th>\n",
       "      <th>joga</th>\n",
       "      <th>cosmeticos</th>\n",
       "      <th>assinaturas</th>\n",
       "      <th>gastos_mensais</th>\n",
       "    </tr>\n",
       "  </thead>\n",
       "  <tbody>\n",
       "    <tr>\n",
       "      <th>0</th>\n",
       "      <td>Female</td>\n",
       "      <td>21</td>\n",
       "      <td>2.0</td>\n",
       "      <td>Home</td>\n",
       "      <td>No</td>\n",
       "      <td>No</td>\n",
       "      <td>No</td>\n",
       "      <td>No</td>\n",
       "      <td>No</td>\n",
       "      <td>No</td>\n",
       "      <td>Yes</td>\n",
       "      <td>No</td>\n",
       "      <td>150.0</td>\n",
       "    </tr>\n",
       "    <tr>\n",
       "      <th>1</th>\n",
       "      <td>Male</td>\n",
       "      <td>25</td>\n",
       "      <td>3.0</td>\n",
       "      <td>Hostel</td>\n",
       "      <td>No</td>\n",
       "      <td>Yes</td>\n",
       "      <td>Motorcycle</td>\n",
       "      <td>No</td>\n",
       "      <td>No</td>\n",
       "      <td>Yes</td>\n",
       "      <td>Yes</td>\n",
       "      <td>Yes</td>\n",
       "      <td>220.0</td>\n",
       "    </tr>\n",
       "    <tr>\n",
       "      <th>2</th>\n",
       "      <td>Male</td>\n",
       "      <td>23</td>\n",
       "      <td>2.0</td>\n",
       "      <td>Home</td>\n",
       "      <td>Yes</td>\n",
       "      <td>No</td>\n",
       "      <td>No</td>\n",
       "      <td>No</td>\n",
       "      <td>No</td>\n",
       "      <td>No</td>\n",
       "      <td>No</td>\n",
       "      <td>NaN</td>\n",
       "      <td>180.0</td>\n",
       "    </tr>\n",
       "    <tr>\n",
       "      <th>3</th>\n",
       "      <td>Male</td>\n",
       "      <td>19</td>\n",
       "      <td>3.0</td>\n",
       "      <td>Hostel</td>\n",
       "      <td>No</td>\n",
       "      <td>No</td>\n",
       "      <td>Motorcycle</td>\n",
       "      <td>No</td>\n",
       "      <td>No</td>\n",
       "      <td>Yes</td>\n",
       "      <td>Yes</td>\n",
       "      <td>Yes</td>\n",
       "      <td>200.0</td>\n",
       "    </tr>\n",
       "    <tr>\n",
       "      <th>4</th>\n",
       "      <td>Female</td>\n",
       "      <td>19</td>\n",
       "      <td>2.0</td>\n",
       "      <td>Home</td>\n",
       "      <td>No</td>\n",
       "      <td>No</td>\n",
       "      <td>Motorcycle</td>\n",
       "      <td>No</td>\n",
       "      <td>No</td>\n",
       "      <td>No</td>\n",
       "      <td>Yes</td>\n",
       "      <td>No</td>\n",
       "      <td>300.0</td>\n",
       "    </tr>\n",
       "  </tbody>\n",
       "</table>\n",
       "</div>"
      ],
      "text/plain": [
       "    genero  idade  ano_estudo  reside bolsa trabalho  transporte fuma bebe  \\\n",
       "0  Female      21         2.0    Home    No       No          No   No   No   \n",
       "1    Male      25         3.0  Hostel    No      Yes  Motorcycle   No   No   \n",
       "2    Male      23         2.0    Home   Yes       No          No   No   No   \n",
       "3    Male      19         3.0  Hostel    No       No  Motorcycle   No   No   \n",
       "4  Female      19         2.0    Home    No       No  Motorcycle   No   No   \n",
       "\n",
       "  joga cosmeticos assinaturas  gastos_mensais  \n",
       "0   No        Yes          No           150.0  \n",
       "1  Yes        Yes         Yes           220.0  \n",
       "2   No         No         NaN           180.0  \n",
       "3  Yes        Yes         Yes           200.0  \n",
       "4   No        Yes          No           300.0  "
      ]
     },
     "execution_count": 31,
     "metadata": {},
     "output_type": "execute_result"
    }
   ],
   "source": [
    "gastos.head()"
   ]
  },
  {
   "cell_type": "code",
   "execution_count": 32,
   "metadata": {
    "colab": {
     "base_uri": "https://localhost:8080/"
    },
    "id": "pu_zusGhDY4b",
    "outputId": "4bd13a25-bcc1-44bc-90e3-396a562b71b9"
   },
   "outputs": [
    {
     "name": "stdout",
     "output_type": "stream",
     "text": [
      "media= 214.94949494949495\n",
      "mediana= 200.0\n",
      "Desvio padrão= 60.69955682475706\n"
     ]
    }
   ],
   "source": [
    "print(\"media=\", gastos.gastos_mensais.mean())\n",
    "print(\"mediana=\", gastos.gastos_mensais.median())\n",
    "print(\"Desvio padrão=\", gastos.gastos_mensais.std())"
   ]
  },
  {
   "cell_type": "code",
   "execution_count": 33,
   "metadata": {
    "colab": {
     "base_uri": "https://localhost:8080/",
     "height": 300
    },
    "id": "bPw_VzjAL59J",
    "outputId": "c46f6087-9b4b-4e10-8b17-60fa64d5c80e"
   },
   "outputs": [
    {
     "data": {
      "text/html": [
       "<div>\n",
       "<style scoped>\n",
       "    .dataframe tbody tr th:only-of-type {\n",
       "        vertical-align: middle;\n",
       "    }\n",
       "\n",
       "    .dataframe tbody tr th {\n",
       "        vertical-align: top;\n",
       "    }\n",
       "\n",
       "    .dataframe thead th {\n",
       "        text-align: right;\n",
       "    }\n",
       "</style>\n",
       "<table border=\"1\" class=\"dataframe\">\n",
       "  <thead>\n",
       "    <tr style=\"text-align: right;\">\n",
       "      <th></th>\n",
       "      <th>idade</th>\n",
       "      <th>ano_estudo</th>\n",
       "      <th>gastos_mensais</th>\n",
       "    </tr>\n",
       "  </thead>\n",
       "  <tbody>\n",
       "    <tr>\n",
       "      <th>count</th>\n",
       "      <td>105.000000</td>\n",
       "      <td>101.000000</td>\n",
       "      <td>99.000000</td>\n",
       "    </tr>\n",
       "    <tr>\n",
       "      <th>mean</th>\n",
       "      <td>20.171429</td>\n",
       "      <td>2.653465</td>\n",
       "      <td>214.949495</td>\n",
       "    </tr>\n",
       "    <tr>\n",
       "      <th>std</th>\n",
       "      <td>1.898669</td>\n",
       "      <td>1.004347</td>\n",
       "      <td>60.699557</td>\n",
       "    </tr>\n",
       "    <tr>\n",
       "      <th>min</th>\n",
       "      <td>17.000000</td>\n",
       "      <td>1.000000</td>\n",
       "      <td>140.000000</td>\n",
       "    </tr>\n",
       "    <tr>\n",
       "      <th>25%</th>\n",
       "      <td>19.000000</td>\n",
       "      <td>2.000000</td>\n",
       "      <td>155.000000</td>\n",
       "    </tr>\n",
       "    <tr>\n",
       "      <th>50%</th>\n",
       "      <td>19.000000</td>\n",
       "      <td>2.000000</td>\n",
       "      <td>200.000000</td>\n",
       "    </tr>\n",
       "    <tr>\n",
       "      <th>75%</th>\n",
       "      <td>22.000000</td>\n",
       "      <td>4.000000</td>\n",
       "      <td>250.000000</td>\n",
       "    </tr>\n",
       "    <tr>\n",
       "      <th>max</th>\n",
       "      <td>25.000000</td>\n",
       "      <td>4.000000</td>\n",
       "      <td>350.000000</td>\n",
       "    </tr>\n",
       "  </tbody>\n",
       "</table>\n",
       "</div>"
      ],
      "text/plain": [
       "            idade  ano_estudo  gastos_mensais\n",
       "count  105.000000  101.000000       99.000000\n",
       "mean    20.171429    2.653465      214.949495\n",
       "std      1.898669    1.004347       60.699557\n",
       "min     17.000000    1.000000      140.000000\n",
       "25%     19.000000    2.000000      155.000000\n",
       "50%     19.000000    2.000000      200.000000\n",
       "75%     22.000000    4.000000      250.000000\n",
       "max     25.000000    4.000000      350.000000"
      ]
     },
     "execution_count": 33,
     "metadata": {},
     "output_type": "execute_result"
    }
   ],
   "source": [
    "gastos.describe()"
   ]
  },
  {
   "cell_type": "code",
   "execution_count": 34,
   "metadata": {
    "id": "mRQ0GPuaRM_x"
   },
   "outputs": [],
   "source": [
    "total_gastos_mensais = gastos.gastos_mensais.value_counts()"
   ]
  },
  {
   "cell_type": "code",
   "execution_count": 35,
   "metadata": {
    "colab": {
     "base_uri": "https://localhost:8080/",
     "height": 206
    },
    "id": "2kwGqfShhC1_",
    "outputId": "cbe925d7-f8c6-42c1-a8ff-ac8d9ecad29b"
   },
   "outputs": [
    {
     "data": {
      "text/html": [
       "<div>\n",
       "<style scoped>\n",
       "    .dataframe tbody tr th:only-of-type {\n",
       "        vertical-align: middle;\n",
       "    }\n",
       "\n",
       "    .dataframe tbody tr th {\n",
       "        vertical-align: top;\n",
       "    }\n",
       "\n",
       "    .dataframe thead th {\n",
       "        text-align: right;\n",
       "    }\n",
       "</style>\n",
       "<table border=\"1\" class=\"dataframe\">\n",
       "  <thead>\n",
       "    <tr style=\"text-align: right;\">\n",
       "      <th>gastos</th>\n",
       "      <th>gastos_mensais</th>\n",
       "    </tr>\n",
       "  </thead>\n",
       "  <tbody>\n",
       "    <tr>\n",
       "      <th>200.0</th>\n",
       "      <td>22</td>\n",
       "    </tr>\n",
       "    <tr>\n",
       "      <th>150.0</th>\n",
       "      <td>20</td>\n",
       "    </tr>\n",
       "    <tr>\n",
       "      <th>300.0</th>\n",
       "      <td>15</td>\n",
       "    </tr>\n",
       "    <tr>\n",
       "      <th>250.0</th>\n",
       "      <td>12</td>\n",
       "    </tr>\n",
       "    <tr>\n",
       "      <th>180.0</th>\n",
       "      <td>11</td>\n",
       "    </tr>\n",
       "  </tbody>\n",
       "</table>\n",
       "</div>"
      ],
      "text/plain": [
       "gastos  gastos_mensais\n",
       "200.0               22\n",
       "150.0               20\n",
       "300.0               15\n",
       "250.0               12\n",
       "180.0               11"
      ]
     },
     "execution_count": 35,
     "metadata": {},
     "output_type": "execute_result"
    }
   ],
   "source": [
    "total_gastos_mensais_tabela = pd.DataFrame(total_gastos_mensais)\n",
    "total_gastos_mensais_tabela.columns.name = 'gastos'\n",
    "total_gastos_mensais_tabela.head()"
   ]
  },
  {
   "cell_type": "markdown",
   "metadata": {
    "id": "gB78Z1EVKHMZ"
   },
   "source": [
    "# Gráficos distribuição dos gastos"
   ]
  },
  {
   "cell_type": "code",
   "execution_count": 36,
   "metadata": {
    "colab": {
     "base_uri": "https://localhost:8080/",
     "height": 318
    },
    "id": "5w3MwqJ7bKBN",
    "outputId": "bd009ab9-f0a8-4ea8-ef72-3cae7cc1dcea"
   },
   "outputs": [
    {
     "data": {
      "image/png": "[encoded data removed]",
      "text/plain": [
       "<Figure size 1080x576 with 1 Axes>"
      ]
     },
     "metadata": {},
     "output_type": "display_data"
    }
   ],
   "source": [
    "from seaborn.rcmod import palettes      #Distribuição gastos\n",
    "sns.set_style('darkgrid')\n",
    "fig = total_gastos_mensais.plot(kind=\"bar\", title=\"Distribuição dos gastos\", width = 1)\n",
    "fig.figure.set_size_inches(15, 8)"
   ]
  },
  {
   "cell_type": "code",
   "execution_count": 37,
   "metadata": {
    "colab": {
     "base_uri": "https://localhost:8080/",
     "height": 387
    },
    "id": "0tEMPew5JHRp",
    "outputId": "89819630-2606-4a64-dcc0-3b060b846c28"
   },
   "outputs": [
    {
     "data": {
      "text/plain": [
       "<seaborn.axisgrid.FacetGrid at 0x2a96892d1c0>"
      ]
     },
     "execution_count": 37,
     "metadata": {},
     "output_type": "execute_result"
    },
    {
     "data": {
      "image/png": "[encoded data removed]",
      "text/plain": [
       "<Figure size 720x360 with 1 Axes>"
      ]
     },
     "metadata": {},
     "output_type": "display_data"
    }
   ],
   "source": [
    "sns.catplot(x= \"gastos_mensais\", kind= \"count\", data= gastos, # Numero de pessoas e seus gastos\n",
    "            order= total_gastos_mensais.index, aspect= 2)"
   ]
  },
  {
   "cell_type": "code",
   "execution_count": 38,
   "metadata": {
    "colab": {
     "base_uri": "https://localhost:8080/",
     "height": 354
    },
    "id": "DmC_CSYfIX0E",
    "outputId": "47d3d2ae-e39b-4106-e417-d7e0ba4a8c04"
   },
   "outputs": [
    {
     "data": {
      "image/png": "[encoded data removed]",
      "text/plain": [
       "<Figure size 1080x576 with 1 Axes>"
      ]
     },
     "metadata": {},
     "output_type": "display_data"
    }
   ],
   "source": [
    "ax = sns.boxplot(x= 'gastos_mensais', data = gastos) \n",
    "ax.figure.set_size_inches(15,8)#Distribuição gastos mensais"
   ]
  },
  {
   "cell_type": "markdown",
   "metadata": {
    "id": "F5pPQ16zW7Kf"
   },
   "source": [
    "# Gasto por sexo"
   ]
  },
  {
   "cell_type": "code",
   "execution_count": 39,
   "metadata": {
    "colab": {
     "base_uri": "https://localhost:8080/"
    },
    "id": "R1MrclsvHo7V",
    "outputId": "199ad7c8-e170-4590-d74d-77678a6d0dfc"
   },
   "outputs": [
    {
     "data": {
      "text/plain": [
       "array(['Female ', 'Male '], dtype=object)"
      ]
     },
     "execution_count": 39,
     "metadata": {},
     "output_type": "execute_result"
    }
   ],
   "source": [
    "gastos.genero.unique()"
   ]
  },
  {
   "cell_type": "code",
   "execution_count": 40,
   "metadata": {
    "colab": {
     "base_uri": "https://localhost:8080/"
    },
    "id": "cXY74lcIHwTA",
    "outputId": "cefbd666-3edb-42f5-f673-5f8284a8c5c5"
   },
   "outputs": [
    {
     "data": {
      "text/plain": [
       "Female     53\n",
       "Male       52\n",
       "Name: genero, dtype: int64"
      ]
     },
     "execution_count": 40,
     "metadata": {},
     "output_type": "execute_result"
    }
   ],
   "source": [
    "gastos.genero.value_counts()"
   ]
  },
  {
   "cell_type": "code",
   "execution_count": 41,
   "metadata": {
    "colab": {
     "base_uri": "https://localhost:8080/"
    },
    "id": "Zjv6AnjhIoWm",
    "outputId": "6cb67116-f98d-4fbf-907e-5c6e47bdb6a8"
   },
   "outputs": [
    {
     "data": {
      "text/plain": [
       "genero\n",
       "Female     213.137255\n",
       "Male       216.875000\n",
       "Name: gastos_mensais, dtype: float64"
      ]
     },
     "execution_count": 41,
     "metadata": {},
     "output_type": "execute_result"
    }
   ],
   "source": [
    "gasto_por_sexo_medio = gastos.groupby(\"genero\").mean().gastos_mensais #Média gasto por sexo\n",
    "gasto_por_sexo_medio"
   ]
  },
  {
   "cell_type": "code",
   "execution_count": 42,
   "metadata": {
    "colab": {
     "base_uri": "https://localhost:8080/",
     "height": 387
    },
    "id": "dnkpHoHMIC8z",
    "outputId": "3e267b87-5ef6-4d11-c1c7-ae201a30f1cc"
   },
   "outputs": [
    {
     "data": {
      "image/png": "[encoded data removed]",
      "text/plain": [
       "<Figure size 1080x576 with 1 Axes>"
      ]
     },
     "metadata": {},
     "output_type": "display_data"
    }
   ],
   "source": [
    "ax = sns.boxplot(data= gastos, x=\"gastos_mensais\", \n",
    "            y=\"genero\", palette=\"Blues_r\")\n",
    "ax.figure.set_size_inches(15,8)#Distribuição gastos por sexo"
   ]
  },
  {
   "cell_type": "code",
   "execution_count": 43,
   "metadata": {
    "colab": {
     "base_uri": "https://localhost:8080/",
     "height": 387
    },
    "id": "5FWHB2XTXpDs",
    "outputId": "8b136da1-3e10-4778-83de-afba477446c0"
   },
   "outputs": [
    {
     "data": {
      "image/png": "[encoded data removed]",
      "text/plain": [
       "<Figure size 804.625x360 with 2 Axes>"
      ]
     },
     "metadata": {},
     "output_type": "display_data"
    }
   ],
   "source": [
    "ax = sns.catplot(data = gastos, kind= \"bar\", x=\"trabalho\", y=\"gastos_mensais\", \n",
    "            hue=\"transporte\", col= \"genero\")\n",
    "\n",
    "#Gastos por genero e meio de transporte e trabalho"
   ]
  },
  {
   "cell_type": "code",
   "execution_count": 44,
   "metadata": {
    "colab": {
     "base_uri": "https://localhost:8080/",
     "height": 297
    },
    "id": "HcJFK-xPaHK8",
    "outputId": "f17fd723-b81d-4cb5-a7df-d44c08b98a8a"
   },
   "outputs": [
    {
     "data": {
      "image/png": "[encoded data removed]",
      "text/plain": [
       "<Figure size 1080x576 with 1 Axes>"
      ]
     },
     "metadata": {},
     "output_type": "display_data"
    }
   ],
   "source": [
    "ax = sns.barplot(data = gastos, x=\"genero\", y=\"gastos_mensais\", hue=\"reside\")\n",
    "ax.figure.set_size_inches(15,8)#gastos por genero e residência"
   ]
  },
  {
   "cell_type": "code",
   "execution_count": null,
   "metadata": {
    "id": "Rwy9CSZTPp_m"
   },
   "outputs": [],
   "source": []
  },
  {
   "cell_type": "markdown",
   "metadata": {
    "id": "cUQGxeOAKZ1h"
   },
   "source": [
    "# Gasto por idade"
   ]
  },
  {
   "cell_type": "code",
   "execution_count": 45,
   "metadata": {
    "colab": {
     "base_uri": "https://localhost:8080/"
    },
    "id": "Be1zbdO7MWZ3",
    "outputId": "f0f1eb2c-ee10-45e0-ef65-42a307881a2d"
   },
   "outputs": [
    {
     "data": {
      "text/plain": [
       "19    33\n",
       "22    32\n",
       "18    19\n",
       "21     8\n",
       "23     8\n",
       "17     4\n",
       "25     1\n",
       "Name: idade, dtype: int64"
      ]
     },
     "execution_count": 45,
     "metadata": {},
     "output_type": "execute_result"
    }
   ],
   "source": [
    "gastos_idade = gastos.idade.value_counts()\n",
    "gastos_idade"
   ]
  },
  {
   "cell_type": "code",
   "execution_count": 46,
   "metadata": {
    "colab": {
     "base_uri": "https://localhost:8080/",
     "height": 387
    },
    "id": "vhH_In4LKcYi",
    "outputId": "fde733f8-78c6-46a4-c0df-17c6899ae19b"
   },
   "outputs": [
    {
     "data": {
      "image/png": "[encoded data removed]",
      "text/plain": [
       "<Figure size 1080x576 with 1 Axes>"
      ]
     },
     "metadata": {},
     "output_type": "display_data"
    }
   ],
   "source": [
    "ax = sns.catplot(x= \"gastos_mensais\", y= \"idade\", kind= \"box\", #Gasto por idade\n",
    "            data= gastos, aspect= 1.5, orient = 'h')\n",
    "ax.figure.set_size_inches(15, 8)"
   ]
  },
  {
   "cell_type": "code",
   "execution_count": 47,
   "metadata": {
    "id": "Ak1KKrrhKrmH"
   },
   "outputs": [
    {
     "data": {
      "text/plain": [
       "'0.11.2'"
      ]
     },
     "execution_count": 47,
     "metadata": {},
     "output_type": "execute_result"
    }
   ],
   "source": [
    "sns.__version__"
   ]
  }
 ],
 "metadata": {
  "colab": {
   "collapsed_sections": [],
   "provenance": []
  },
  "kernelspec": {
   "display_name": "Python 3 (ipykernel)",
   "language": "python",
   "name": "python3"
  },
  "language_info": {
   "codemirror_mode": {
    "name": "ipython",
    "version": 3
   },
   "file_extension": ".py",
   "mimetype": "text/x-python",
   "name": "python",
   "nbconvert_exporter": "python",
   "pygments_lexer": "ipython3",
   "version": "3.9.12"
  }
 },
 "nbformat": 4,
 "nbformat_minor": 1
}
