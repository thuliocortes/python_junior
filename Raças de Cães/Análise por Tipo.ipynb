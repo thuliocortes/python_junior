{
 "cells": [
  {
   "cell_type": "markdown",
   "id": "1cb16a17",
   "metadata": {
    "id": "1cb16a17"
   },
   "source": [
    "# Análise por Tipo"
   ]
  },
  {
   "cell_type": "code",
   "execution_count": 16,
   "id": "5e64311b",
   "metadata": {
    "id": "5e64311b"
   },
   "outputs": [],
   "source": [
    "import pandas as pd\n",
    "import seaborn as sns"
   ]
  },
  {
   "cell_type": "code",
   "execution_count": 17,
   "id": "3f0340b8",
   "metadata": {
    "id": "3f0340b8"
   },
   "outputs": [],
   "source": [
    "%matplotlib inline\n",
    "import matplotlib.pyplot as plt\n",
    "from matplotlib.patches import Polygon\n",
    "plt.rc('figure', figsize = (15,8))"
   ]
  },
  {
   "cell_type": "code",
   "execution_count": 18,
   "id": "ff3c3aa4",
   "metadata": {
    "id": "ff3c3aa4"
   },
   "outputs": [],
   "source": [
    "dados = pd.read_csv('dados/racas_caes.csv')"
   ]
  },
  {
   "cell_type": "code",
   "execution_count": 19,
   "id": "aff5cfc7",
   "metadata": {
    "id": "aff5cfc7"
   },
   "outputs": [],
   "source": [
    "pd.set_option('display.max_rows', 250)"
   ]
  },
  {
   "cell_type": "code",
   "execution_count": 20,
   "id": "a64a2b0c",
   "metadata": {
    "colab": {
     "base_uri": "https://localhost:8080/",
     "height": 206
    },
    "id": "a64a2b0c",
    "outputId": "7f621d36-5525-4c9d-f98c-ac9c0c3c4044"
   },
   "outputs": [
    {
     "data": {
      "text/html": [
       "<div>\n",
       "<style scoped>\n",
       "    .dataframe tbody tr th:only-of-type {\n",
       "        vertical-align: middle;\n",
       "    }\n",
       "\n",
       "    .dataframe tbody tr th {\n",
       "        vertical-align: top;\n",
       "    }\n",
       "\n",
       "    .dataframe thead th {\n",
       "        text-align: right;\n",
       "    }\n",
       "</style>\n",
       "<table border=\"1\" class=\"dataframe\">\n",
       "  <thead>\n",
       "    <tr style=\"text-align: right;\">\n",
       "      <th></th>\n",
       "      <th>Nome</th>\n",
       "      <th>Tipo</th>\n",
       "      <th>Tipo 2</th>\n",
       "      <th>Peso</th>\n",
       "      <th>Temperamento</th>\n",
       "      <th>Preço</th>\n",
       "      <th>Inteligência</th>\n",
       "      <th>Nota de guarda</th>\n",
       "      <th>Popularidade nos EUA</th>\n",
       "      <th>Grupo Tipo</th>\n",
       "    </tr>\n",
       "  </thead>\n",
       "  <tbody>\n",
       "    <tr>\n",
       "      <th>0</th>\n",
       "      <td>Affenpinscher</td>\n",
       "      <td>Toy</td>\n",
       "      <td>Companion</td>\n",
       "      <td>4.0</td>\n",
       "      <td>Active, Adventurous, Curious, Fun-loving, Play...</td>\n",
       "      <td>1000.0</td>\n",
       "      <td>37.0</td>\n",
       "      <td>1.0</td>\n",
       "      <td>147.0</td>\n",
       "      <td>Companhia</td>\n",
       "    </tr>\n",
       "    <tr>\n",
       "      <th>1</th>\n",
       "      <td>Afghan Hound</td>\n",
       "      <td>Sporting</td>\n",
       "      <td>Sight</td>\n",
       "      <td>28.0</td>\n",
       "      <td>Aloof, Clownish, Dignified, Happy, Independent</td>\n",
       "      <td>2250.0</td>\n",
       "      <td>79.0</td>\n",
       "      <td>1.0</td>\n",
       "      <td>93.0</td>\n",
       "      <td>Trabalho ou Esporte</td>\n",
       "    </tr>\n",
       "    <tr>\n",
       "      <th>2</th>\n",
       "      <td>Airedale Terrier</td>\n",
       "      <td>Terrier</td>\n",
       "      <td>Terrier</td>\n",
       "      <td>26.0</td>\n",
       "      <td>Alert, Confident, Courageous, Friendly, Intell...</td>\n",
       "      <td>700.0</td>\n",
       "      <td>29.0</td>\n",
       "      <td>4.0</td>\n",
       "      <td>55.0</td>\n",
       "      <td>Companhia</td>\n",
       "    </tr>\n",
       "    <tr>\n",
       "      <th>3</th>\n",
       "      <td>Akbash</td>\n",
       "      <td>Working</td>\n",
       "      <td>Guardian</td>\n",
       "      <td>53.0</td>\n",
       "      <td>Affectionate, Alert, Courageous, Independent, ...</td>\n",
       "      <td>600.0</td>\n",
       "      <td>NaN</td>\n",
       "      <td>5.0</td>\n",
       "      <td>NaN</td>\n",
       "      <td>Trabalho ou Esporte</td>\n",
       "    </tr>\n",
       "    <tr>\n",
       "      <th>4</th>\n",
       "      <td>Akita</td>\n",
       "      <td>Working</td>\n",
       "      <td>Herding</td>\n",
       "      <td>44.0</td>\n",
       "      <td>Alert, Courageous, Dignified, Docile, Friendly...</td>\n",
       "      <td>1000.0</td>\n",
       "      <td>54.0</td>\n",
       "      <td>5.0</td>\n",
       "      <td>47.0</td>\n",
       "      <td>Trabalho ou Esporte</td>\n",
       "    </tr>\n",
       "  </tbody>\n",
       "</table>\n",
       "</div>"
      ],
      "text/plain": [
       "               Nome      Tipo     Tipo 2  Peso  \\\n",
       "0     Affenpinscher       Toy  Companion   4.0   \n",
       "1      Afghan Hound  Sporting      Sight  28.0   \n",
       "2  Airedale Terrier   Terrier    Terrier  26.0   \n",
       "3            Akbash   Working   Guardian  53.0   \n",
       "4             Akita   Working    Herding  44.0   \n",
       "\n",
       "                                        Temperamento   Preço  Inteligência  \\\n",
       "0  Active, Adventurous, Curious, Fun-loving, Play...  1000.0          37.0   \n",
       "1     Aloof, Clownish, Dignified, Happy, Independent  2250.0          79.0   \n",
       "2  Alert, Confident, Courageous, Friendly, Intell...   700.0          29.0   \n",
       "3  Affectionate, Alert, Courageous, Independent, ...   600.0           NaN   \n",
       "4  Alert, Courageous, Dignified, Docile, Friendly...  1000.0          54.0   \n",
       "\n",
       "   Nota de guarda  Popularidade nos EUA           Grupo Tipo  \n",
       "0             1.0                 147.0            Companhia  \n",
       "1             1.0                  93.0  Trabalho ou Esporte  \n",
       "2             4.0                  55.0            Companhia  \n",
       "3             5.0                   NaN  Trabalho ou Esporte  \n",
       "4             5.0                  47.0  Trabalho ou Esporte  "
      ]
     },
     "execution_count": 20,
     "metadata": {},
     "output_type": "execute_result"
    }
   ],
   "source": [
    "dados.head()"
   ]
  },
  {
   "cell_type": "code",
   "execution_count": 21,
   "id": "ba8188d1",
   "metadata": {
    "id": "ba8188d1"
   },
   "outputs": [],
   "source": [
    "dados_grupo_tipo = dados.groupby('Grupo Tipo')"
   ]
  },
  {
   "cell_type": "code",
   "execution_count": 22,
   "id": "7b83a37b",
   "metadata": {
    "colab": {
     "base_uri": "https://localhost:8080/",
     "height": 206
    },
    "id": "7b83a37b",
    "outputId": "97e58b31-29c5-4ccf-9c52-8bafd13d457f"
   },
   "outputs": [
    {
     "data": {
      "text/html": [
       "<div>\n",
       "<style scoped>\n",
       "    .dataframe tbody tr th:only-of-type {\n",
       "        vertical-align: middle;\n",
       "    }\n",
       "\n",
       "    .dataframe tbody tr th {\n",
       "        vertical-align: top;\n",
       "    }\n",
       "\n",
       "    .dataframe thead th {\n",
       "        text-align: right;\n",
       "    }\n",
       "</style>\n",
       "<table border=\"1\" class=\"dataframe\">\n",
       "  <thead>\n",
       "    <tr style=\"text-align: right;\">\n",
       "      <th></th>\n",
       "      <th>Grupo Tipo</th>\n",
       "      <th>Preço</th>\n",
       "    </tr>\n",
       "  </thead>\n",
       "  <tbody>\n",
       "    <tr>\n",
       "      <th>0</th>\n",
       "      <td>Companhia</td>\n",
       "      <td>1000.0</td>\n",
       "    </tr>\n",
       "    <tr>\n",
       "      <th>1</th>\n",
       "      <td>Trabalho ou Esporte</td>\n",
       "      <td>2250.0</td>\n",
       "    </tr>\n",
       "    <tr>\n",
       "      <th>2</th>\n",
       "      <td>Companhia</td>\n",
       "      <td>700.0</td>\n",
       "    </tr>\n",
       "    <tr>\n",
       "      <th>3</th>\n",
       "      <td>Trabalho ou Esporte</td>\n",
       "      <td>600.0</td>\n",
       "    </tr>\n",
       "    <tr>\n",
       "      <th>4</th>\n",
       "      <td>Trabalho ou Esporte</td>\n",
       "      <td>1000.0</td>\n",
       "    </tr>\n",
       "  </tbody>\n",
       "</table>\n",
       "</div>"
      ],
      "text/plain": [
       "            Grupo Tipo   Preço\n",
       "0            Companhia  1000.0\n",
       "1  Trabalho ou Esporte  2250.0\n",
       "2            Companhia   700.0\n",
       "3  Trabalho ou Esporte   600.0\n",
       "4  Trabalho ou Esporte  1000.0"
      ]
     },
     "execution_count": 22,
     "metadata": {},
     "output_type": "execute_result"
    }
   ],
   "source": [
    "dados_grupo_preço = dados[['Grupo Tipo', 'Preço']]\n",
    "dados_grupo_preço.head()"
   ]
  },
  {
   "cell_type": "markdown",
   "id": "9uoDiMNZbEYh",
   "metadata": {
    "id": "9uoDiMNZbEYh"
   },
   "source": [
    "# Grafícos"
   ]
  },
  {
   "cell_type": "code",
   "execution_count": 23,
   "id": "1d421cb9",
   "metadata": {
    "colab": {
     "base_uri": "https://localhost:8080/",
     "height": 541
    },
    "id": "1d421cb9",
    "outputId": "c39141d0-4aab-4b79-938e-3a1d04507a69"
   },
   "outputs": [
    {
     "data": {
      "image/png": "[encoded data removed]",
      "text/plain": [
       "<Figure size 1080x576 with 1 Axes>"
      ]
     },
     "metadata": {},
     "output_type": "display_data"
    }
   ],
   "source": [
    "sns.set_style('darkgrid')\n",
    "fig = sns.boxplot(x = 'Preço', y = 'Grupo Tipo', data = dados)\n",
    "fig.set_title('Distribuição dos Preços por Grupo', {'fontsize': 22})\n",
    "fig.set_ylabel('Valor', fontsize = 14)\n",
    "fig.set_xlabel('Preço', fontsize = 14)\n",
    "fig = fig"
   ]
  },
  {
   "cell_type": "markdown",
   "id": "9e2e39eb",
   "metadata": {},
   "source": [
    "### Os cães de trabalho tem o valor médio superior aos cães de companhia"
   ]
  },
  {
   "cell_type": "code",
   "execution_count": 24,
   "id": "5c20daba",
   "metadata": {
    "colab": {
     "base_uri": "https://localhost:8080/",
     "height": 627
    },
    "id": "5c20daba",
    "outputId": "1a5d9436-99f1-4433-af35-a79470abc0b1"
   },
   "outputs": [
    {
     "data": {
      "image/png": "[encoded data removed]",
      "text/plain": [
       "<Figure size 1080x576 with 1 Axes>"
      ]
     },
     "metadata": {},
     "output_type": "display_data"
    }
   ],
   "source": [
    "fig2 = dados_grupo_tipo['Inteligência'].mean().plot.bar(color = 'Maroon')\n",
    "fig2.set_title('Nota de Inteligência Média por Grupo', {'fontsize': 22})\n",
    "fig2.set_ylabel('Nota', {'fontsize': 18})\n",
    "fig2= fig2"
   ]
  },
  {
   "cell_type": "code",
   "execution_count": 25,
   "id": "8d703c93",
   "metadata": {
    "colab": {
     "base_uri": "https://localhost:8080/",
     "height": 626
    },
    "id": "8d703c93",
    "outputId": "99bb0864-dfbf-46f7-9c7a-85b2a14dcd57"
   },
   "outputs": [
    {
     "data": {
      "text/plain": [
       "Text(0, 0.5, 'Nota')"
      ]
     },
     "execution_count": 25,
     "metadata": {},
     "output_type": "execute_result"
    },
    {
     "data": {
      "image/png": "[encoded data removed]",
      "text/plain": [
       "<Figure size 1080x576 with 1 Axes>"
      ]
     },
     "metadata": {},
     "output_type": "display_data"
    }
   ],
   "source": [
    "fig3 = dados_grupo_tipo['Popularidade nos EUA'].mean().plot.bar(color = 'Green')\n",
    "fig3.set_title('Nota de Popularidade por Grupo', {'fontsize': 22})\n",
    "fig3.set_ylabel('Nota', {'fontsize': 18})"
   ]
  },
  {
   "cell_type": "markdown",
   "id": "09d733ce",
   "metadata": {},
   "source": [
    "# Distribuição dos preços por faixa de valor"
   ]
  },
  {
   "cell_type": "code",
   "execution_count": 29,
   "id": "32e78904",
   "metadata": {},
   "outputs": [
    {
     "data": {
      "text/html": [
       "<div>\n",
       "<style scoped>\n",
       "    .dataframe tbody tr th:only-of-type {\n",
       "        vertical-align: middle;\n",
       "    }\n",
       "\n",
       "    .dataframe tbody tr th {\n",
       "        vertical-align: top;\n",
       "    }\n",
       "\n",
       "    .dataframe thead th {\n",
       "        text-align: right;\n",
       "    }\n",
       "</style>\n",
       "<table border=\"1\" class=\"dataframe\">\n",
       "  <thead>\n",
       "    <tr style=\"text-align: right;\">\n",
       "      <th></th>\n",
       "      <th>Nome</th>\n",
       "      <th>Tipo</th>\n",
       "      <th>Tipo 2</th>\n",
       "      <th>Peso</th>\n",
       "      <th>Temperamento</th>\n",
       "      <th>Preço</th>\n",
       "      <th>Inteligência</th>\n",
       "      <th>Nota de guarda</th>\n",
       "      <th>Popularidade nos EUA</th>\n",
       "      <th>Grupo Tipo</th>\n",
       "      <th>Faixa de Valor</th>\n",
       "    </tr>\n",
       "  </thead>\n",
       "  <tbody>\n",
       "    <tr>\n",
       "      <th>0</th>\n",
       "      <td>Affenpinscher</td>\n",
       "      <td>Toy</td>\n",
       "      <td>Companion</td>\n",
       "      <td>4.0</td>\n",
       "      <td>Active, Adventurous, Curious, Fun-loving, Play...</td>\n",
       "      <td>1000.0</td>\n",
       "      <td>37.0</td>\n",
       "      <td>1.0</td>\n",
       "      <td>147.0</td>\n",
       "      <td>Companhia</td>\n",
       "      <td>De 500 a 1000</td>\n",
       "    </tr>\n",
       "    <tr>\n",
       "      <th>1</th>\n",
       "      <td>Afghan Hound</td>\n",
       "      <td>Sporting</td>\n",
       "      <td>Sight</td>\n",
       "      <td>28.0</td>\n",
       "      <td>Aloof, Clownish, Dignified, Happy, Independent</td>\n",
       "      <td>2250.0</td>\n",
       "      <td>79.0</td>\n",
       "      <td>1.0</td>\n",
       "      <td>93.0</td>\n",
       "      <td>Trabalho ou Esporte</td>\n",
       "      <td>Acima de 2000</td>\n",
       "    </tr>\n",
       "    <tr>\n",
       "      <th>2</th>\n",
       "      <td>Airedale Terrier</td>\n",
       "      <td>Terrier</td>\n",
       "      <td>Terrier</td>\n",
       "      <td>26.0</td>\n",
       "      <td>Alert, Confident, Courageous, Friendly, Intell...</td>\n",
       "      <td>700.0</td>\n",
       "      <td>29.0</td>\n",
       "      <td>4.0</td>\n",
       "      <td>55.0</td>\n",
       "      <td>Companhia</td>\n",
       "      <td>De 500 a 1000</td>\n",
       "    </tr>\n",
       "    <tr>\n",
       "      <th>3</th>\n",
       "      <td>Akita</td>\n",
       "      <td>Working</td>\n",
       "      <td>Herding</td>\n",
       "      <td>44.0</td>\n",
       "      <td>Alert, Courageous, Dignified, Docile, Friendly...</td>\n",
       "      <td>1000.0</td>\n",
       "      <td>54.0</td>\n",
       "      <td>5.0</td>\n",
       "      <td>47.0</td>\n",
       "      <td>Trabalho ou Esporte</td>\n",
       "      <td>De 500 a 1000</td>\n",
       "    </tr>\n",
       "    <tr>\n",
       "      <th>4</th>\n",
       "      <td>Alaskan Malamute</td>\n",
       "      <td>Working</td>\n",
       "      <td>Northern</td>\n",
       "      <td>40.0</td>\n",
       "      <td>Affectionate, Devoted, Dignified, Friendly, Lo...</td>\n",
       "      <td>1350.0</td>\n",
       "      <td>50.0</td>\n",
       "      <td>5.0</td>\n",
       "      <td>59.0</td>\n",
       "      <td>Trabalho ou Esporte</td>\n",
       "      <td>De 1000 a 1500</td>\n",
       "    </tr>\n",
       "  </tbody>\n",
       "</table>\n",
       "</div>"
      ],
      "text/plain": [
       "               Nome      Tipo     Tipo 2  Peso  \\\n",
       "0     Affenpinscher       Toy  Companion   4.0   \n",
       "1      Afghan Hound  Sporting      Sight  28.0   \n",
       "2  Airedale Terrier   Terrier    Terrier  26.0   \n",
       "3             Akita   Working    Herding  44.0   \n",
       "4  Alaskan Malamute   Working   Northern  40.0   \n",
       "\n",
       "                                        Temperamento   Preço  Inteligência  \\\n",
       "0  Active, Adventurous, Curious, Fun-loving, Play...  1000.0          37.0   \n",
       "1     Aloof, Clownish, Dignified, Happy, Independent  2250.0          79.0   \n",
       "2  Alert, Confident, Courageous, Friendly, Intell...   700.0          29.0   \n",
       "3  Alert, Courageous, Dignified, Docile, Friendly...  1000.0          54.0   \n",
       "4  Affectionate, Devoted, Dignified, Friendly, Lo...  1350.0          50.0   \n",
       "\n",
       "   Nota de guarda  Popularidade nos EUA           Grupo Tipo  Faixa de Valor  \n",
       "0             1.0                 147.0            Companhia   De 500 a 1000  \n",
       "1             1.0                  93.0  Trabalho ou Esporte   Acima de 2000  \n",
       "2             4.0                  55.0            Companhia   De 500 a 1000  \n",
       "3             5.0                  47.0  Trabalho ou Esporte   De 500 a 1000  \n",
       "4             5.0                  59.0  Trabalho ou Esporte  De 1000 a 1500  "
      ]
     },
     "execution_count": 29,
     "metadata": {},
     "output_type": "execute_result"
    }
   ],
   "source": [
    "dados_faixa_valor = pd.read_csv('dados/dados_faixa_valor.csv')\n",
    "dados_faixa_valor.head()"
   ]
  },
  {
   "cell_type": "code",
   "execution_count": 40,
   "id": "edb13658",
   "metadata": {},
   "outputs": [
    {
     "data": {
      "text/plain": [
       "Text(0.5, 1.0, 'Relação entre a popularidade a faixa de preço e o grupo dos Cães')"
      ]
     },
     "execution_count": 40,
     "metadata": {},
     "output_type": "execute_result"
    },
    {
     "data": {
      "image/png": "[encoded data removed]",
      "text/plain": [
       "<Figure size 1080x576 with 1 Axes>"
      ]
     },
     "metadata": {},
     "output_type": "display_data"
    }
   ],
   "source": [
    "sns.set_palette('Spectral')\n",
    "ax = sns.boxplot(x = 'Popularidade nos EUA', y= 'Faixa de Valor', hue = 'Grupo Tipo', data = dados_faixa_valor)\n",
    "ax.set_title('Relação entre a popularidade a faixa de preço e o grupo dos Cães', fontsize = 18)"
   ]
  },
  {
   "cell_type": "markdown",
   "id": "a9d53294",
   "metadata": {},
   "source": [
    "### Os cães de companhia são mais populares em todas as faixa de preço"
   ]
  }
 ],
 "metadata": {
  "colab": {
   "collapsed_sections": [
    "1cb16a17"
   ],
   "provenance": []
  },
  "kernelspec": {
   "display_name": "Python 3 (ipykernel)",
   "language": "python",
   "name": "python3"
  },
  "language_info": {
   "codemirror_mode": {
    "name": "ipython",
    "version": 3
   },
   "file_extension": ".py",
   "mimetype": "text/x-python",
   "name": "python",
   "nbconvert_exporter": "python",
   "pygments_lexer": "ipython3",
   "version": "3.9.12"
  }
 },
 "nbformat": 4,
 "nbformat_minor": 5
}
