{
 "cells": [
  {
   "cell_type": "code",
   "execution_count": 5,
   "id": "ba238bf5",
   "metadata": {
    "id": "ba238bf5"
   },
   "outputs": [],
   "source": [
    "import pandas as pd"
   ]
  },
  {
   "cell_type": "code",
   "execution_count": 6,
   "id": "163e528f",
   "metadata": {
    "id": "163e528f"
   },
   "outputs": [],
   "source": [
    "import seaborn as sns"
   ]
  },
  {
   "cell_type": "code",
   "execution_count": 7,
   "id": "48ccad54",
   "metadata": {
    "colab": {
     "base_uri": "https://localhost:8080/",
     "height": 206
    },
    "id": "48ccad54",
    "outputId": "211e4053-3edd-40d0-a6c1-1e5a3de4d0b8"
   },
   "outputs": [
    {
     "data": {
      "text/html": [
       "<div>\n",
       "<style scoped>\n",
       "    .dataframe tbody tr th:only-of-type {\n",
       "        vertical-align: middle;\n",
       "    }\n",
       "\n",
       "    .dataframe tbody tr th {\n",
       "        vertical-align: top;\n",
       "    }\n",
       "\n",
       "    .dataframe thead th {\n",
       "        text-align: right;\n",
       "    }\n",
       "</style>\n",
       "<table border=\"1\" class=\"dataframe\">\n",
       "  <thead>\n",
       "    <tr style=\"text-align: right;\">\n",
       "      <th></th>\n",
       "      <th>Nome</th>\n",
       "      <th>Tipo</th>\n",
       "      <th>Tipo 2</th>\n",
       "      <th>Peso</th>\n",
       "      <th>Temperamento</th>\n",
       "      <th>Preço</th>\n",
       "      <th>Inteligência</th>\n",
       "      <th>Nota de guarda</th>\n",
       "      <th>Popularidade nos EUA</th>\n",
       "      <th>Grupo Tipo</th>\n",
       "    </tr>\n",
       "  </thead>\n",
       "  <tbody>\n",
       "    <tr>\n",
       "      <th>0</th>\n",
       "      <td>Affenpinscher</td>\n",
       "      <td>Toy</td>\n",
       "      <td>Companion</td>\n",
       "      <td>4.0</td>\n",
       "      <td>Active, Adventurous, Curious, Fun-loving, Play...</td>\n",
       "      <td>1000.0</td>\n",
       "      <td>37.0</td>\n",
       "      <td>1.0</td>\n",
       "      <td>147.0</td>\n",
       "      <td>Companhia</td>\n",
       "    </tr>\n",
       "    <tr>\n",
       "      <th>1</th>\n",
       "      <td>Afghan Hound</td>\n",
       "      <td>Sporting</td>\n",
       "      <td>Sight</td>\n",
       "      <td>28.0</td>\n",
       "      <td>Aloof, Clownish, Dignified, Happy, Independent</td>\n",
       "      <td>2250.0</td>\n",
       "      <td>79.0</td>\n",
       "      <td>1.0</td>\n",
       "      <td>93.0</td>\n",
       "      <td>Trabalho ou Esporte</td>\n",
       "    </tr>\n",
       "    <tr>\n",
       "      <th>2</th>\n",
       "      <td>Airedale Terrier</td>\n",
       "      <td>Terrier</td>\n",
       "      <td>Terrier</td>\n",
       "      <td>26.0</td>\n",
       "      <td>Alert, Confident, Courageous, Friendly, Intell...</td>\n",
       "      <td>700.0</td>\n",
       "      <td>29.0</td>\n",
       "      <td>4.0</td>\n",
       "      <td>55.0</td>\n",
       "      <td>Companhia</td>\n",
       "    </tr>\n",
       "    <tr>\n",
       "      <th>3</th>\n",
       "      <td>Akita</td>\n",
       "      <td>Working</td>\n",
       "      <td>Herding</td>\n",
       "      <td>44.0</td>\n",
       "      <td>Alert, Courageous, Dignified, Docile, Friendly...</td>\n",
       "      <td>1000.0</td>\n",
       "      <td>54.0</td>\n",
       "      <td>5.0</td>\n",
       "      <td>47.0</td>\n",
       "      <td>Trabalho ou Esporte</td>\n",
       "    </tr>\n",
       "    <tr>\n",
       "      <th>4</th>\n",
       "      <td>Alaskan Malamute</td>\n",
       "      <td>Working</td>\n",
       "      <td>Northern</td>\n",
       "      <td>40.0</td>\n",
       "      <td>Affectionate, Devoted, Dignified, Friendly, Lo...</td>\n",
       "      <td>1350.0</td>\n",
       "      <td>50.0</td>\n",
       "      <td>5.0</td>\n",
       "      <td>59.0</td>\n",
       "      <td>Trabalho ou Esporte</td>\n",
       "    </tr>\n",
       "  </tbody>\n",
       "</table>\n",
       "</div>"
      ],
      "text/plain": [
       "               Nome      Tipo     Tipo 2  Peso  \\\n",
       "0     Affenpinscher       Toy  Companion   4.0   \n",
       "1      Afghan Hound  Sporting      Sight  28.0   \n",
       "2  Airedale Terrier   Terrier    Terrier  26.0   \n",
       "3             Akita   Working    Herding  44.0   \n",
       "4  Alaskan Malamute   Working   Northern  40.0   \n",
       "\n",
       "                                        Temperamento   Preço  Inteligência  \\\n",
       "0  Active, Adventurous, Curious, Fun-loving, Play...  1000.0          37.0   \n",
       "1     Aloof, Clownish, Dignified, Happy, Independent  2250.0          79.0   \n",
       "2  Alert, Confident, Courageous, Friendly, Intell...   700.0          29.0   \n",
       "3  Alert, Courageous, Dignified, Docile, Friendly...  1000.0          54.0   \n",
       "4  Affectionate, Devoted, Dignified, Friendly, Lo...  1350.0          50.0   \n",
       "\n",
       "   Nota de guarda  Popularidade nos EUA           Grupo Tipo  \n",
       "0             1.0                 147.0            Companhia  \n",
       "1             1.0                  93.0  Trabalho ou Esporte  \n",
       "2             4.0                  55.0            Companhia  \n",
       "3             5.0                  47.0  Trabalho ou Esporte  \n",
       "4             5.0                  59.0  Trabalho ou Esporte  "
      ]
     },
     "execution_count": 7,
     "metadata": {},
     "output_type": "execute_result"
    }
   ],
   "source": [
    "dados_new = pd.read_csv('dados/raca_caes_semna.csv')\n",
    "dados_new.head()"
   ]
  },
  {
   "cell_type": "code",
   "execution_count": 8,
   "id": "417da409",
   "metadata": {
    "colab": {
     "base_uri": "https://localhost:8080/"
    },
    "id": "417da409",
    "outputId": "845b0da7-fbb8-4d8f-c150-86b452fb4019"
   },
   "outputs": [
    {
     "data": {
      "text/plain": [
       "43      350.0\n",
       "19      350.0\n",
       "104     400.0\n",
       "11      400.0\n",
       "78      400.0\n",
       "        ...  \n",
       "76     1900.0\n",
       "99     1900.0\n",
       "91     2250.0\n",
       "1      2250.0\n",
       "60     3000.0\n",
       "Name: Preço, Length: 147, dtype: float64"
      ]
     },
     "execution_count": 8,
     "metadata": {},
     "output_type": "execute_result"
    }
   ],
   "source": [
    "dados_new['Preço'].sort_values()"
   ]
  },
  {
   "cell_type": "code",
   "execution_count": 9,
   "id": "Iz2-aWnCbZSY",
   "metadata": {
    "colab": {
     "base_uri": "https://localhost:8080/",
     "height": 206
    },
    "id": "Iz2-aWnCbZSY",
    "outputId": "dbaaaaf7-c8d9-4a78-9f5c-afc4c5adb751"
   },
   "outputs": [
    {
     "data": {
      "text/html": [
       "<div>\n",
       "<style scoped>\n",
       "    .dataframe tbody tr th:only-of-type {\n",
       "        vertical-align: middle;\n",
       "    }\n",
       "\n",
       "    .dataframe tbody tr th {\n",
       "        vertical-align: top;\n",
       "    }\n",
       "\n",
       "    .dataframe thead th {\n",
       "        text-align: right;\n",
       "    }\n",
       "</style>\n",
       "<table border=\"1\" class=\"dataframe\">\n",
       "  <thead>\n",
       "    <tr style=\"text-align: right;\">\n",
       "      <th></th>\n",
       "      <th>Nome</th>\n",
       "      <th>Tipo</th>\n",
       "      <th>Tipo 2</th>\n",
       "      <th>Peso</th>\n",
       "      <th>Temperamento</th>\n",
       "      <th>Preço</th>\n",
       "      <th>Inteligência</th>\n",
       "      <th>Nota de guarda</th>\n",
       "      <th>Popularidade nos EUA</th>\n",
       "      <th>Grupo Tipo</th>\n",
       "    </tr>\n",
       "  </thead>\n",
       "  <tbody>\n",
       "    <tr>\n",
       "      <th>0</th>\n",
       "      <td>Affenpinscher</td>\n",
       "      <td>Toy</td>\n",
       "      <td>Companion</td>\n",
       "      <td>4.0</td>\n",
       "      <td>Active, Adventurous, Curious, Fun-loving, Play...</td>\n",
       "      <td>1000.0</td>\n",
       "      <td>37.0</td>\n",
       "      <td>1.0</td>\n",
       "      <td>147.0</td>\n",
       "      <td>Companhia</td>\n",
       "    </tr>\n",
       "    <tr>\n",
       "      <th>1</th>\n",
       "      <td>Afghan Hound</td>\n",
       "      <td>Sporting</td>\n",
       "      <td>Sight</td>\n",
       "      <td>28.0</td>\n",
       "      <td>Aloof, Clownish, Dignified, Happy, Independent</td>\n",
       "      <td>2250.0</td>\n",
       "      <td>79.0</td>\n",
       "      <td>1.0</td>\n",
       "      <td>93.0</td>\n",
       "      <td>Trabalho ou Esporte</td>\n",
       "    </tr>\n",
       "    <tr>\n",
       "      <th>2</th>\n",
       "      <td>Airedale Terrier</td>\n",
       "      <td>Terrier</td>\n",
       "      <td>Terrier</td>\n",
       "      <td>26.0</td>\n",
       "      <td>Alert, Confident, Courageous, Friendly, Intell...</td>\n",
       "      <td>700.0</td>\n",
       "      <td>29.0</td>\n",
       "      <td>4.0</td>\n",
       "      <td>55.0</td>\n",
       "      <td>Companhia</td>\n",
       "    </tr>\n",
       "    <tr>\n",
       "      <th>3</th>\n",
       "      <td>Akbash</td>\n",
       "      <td>Working</td>\n",
       "      <td>Guardian</td>\n",
       "      <td>53.0</td>\n",
       "      <td>Affectionate, Alert, Courageous, Independent, ...</td>\n",
       "      <td>600.0</td>\n",
       "      <td>NaN</td>\n",
       "      <td>5.0</td>\n",
       "      <td>NaN</td>\n",
       "      <td>Trabalho ou Esporte</td>\n",
       "    </tr>\n",
       "    <tr>\n",
       "      <th>4</th>\n",
       "      <td>Akita</td>\n",
       "      <td>Working</td>\n",
       "      <td>Herding</td>\n",
       "      <td>44.0</td>\n",
       "      <td>Alert, Courageous, Dignified, Docile, Friendly...</td>\n",
       "      <td>1000.0</td>\n",
       "      <td>54.0</td>\n",
       "      <td>5.0</td>\n",
       "      <td>47.0</td>\n",
       "      <td>Trabalho ou Esporte</td>\n",
       "    </tr>\n",
       "  </tbody>\n",
       "</table>\n",
       "</div>"
      ],
      "text/plain": [
       "               Nome      Tipo     Tipo 2  Peso  \\\n",
       "0     Affenpinscher       Toy  Companion   4.0   \n",
       "1      Afghan Hound  Sporting      Sight  28.0   \n",
       "2  Airedale Terrier   Terrier    Terrier  26.0   \n",
       "3            Akbash   Working   Guardian  53.0   \n",
       "4             Akita   Working    Herding  44.0   \n",
       "\n",
       "                                        Temperamento   Preço  Inteligência  \\\n",
       "0  Active, Adventurous, Curious, Fun-loving, Play...  1000.0          37.0   \n",
       "1     Aloof, Clownish, Dignified, Happy, Independent  2250.0          79.0   \n",
       "2  Alert, Confident, Courageous, Friendly, Intell...   700.0          29.0   \n",
       "3  Affectionate, Alert, Courageous, Independent, ...   600.0           NaN   \n",
       "4  Alert, Courageous, Dignified, Docile, Friendly...  1000.0          54.0   \n",
       "\n",
       "   Nota de guarda  Popularidade nos EUA           Grupo Tipo  \n",
       "0             1.0                 147.0            Companhia  \n",
       "1             1.0                  93.0  Trabalho ou Esporte  \n",
       "2             4.0                  55.0            Companhia  \n",
       "3             5.0                   NaN  Trabalho ou Esporte  \n",
       "4             5.0                  47.0  Trabalho ou Esporte  "
      ]
     },
     "execution_count": 9,
     "metadata": {},
     "output_type": "execute_result"
    }
   ],
   "source": [
    "dados= pd.read_csv('dados/racas_caes.csv')\n",
    "dados.head()"
   ]
  },
  {
   "cell_type": "markdown",
   "id": "fKSVLfk2c-gZ",
   "metadata": {
    "id": "fKSVLfk2c-gZ"
   },
   "source": [
    "### Cães Mais Populares\n"
   ]
  },
  {
   "cell_type": "code",
   "execution_count": 10,
   "id": "FEN8n9kfb28p",
   "metadata": {
    "colab": {
     "base_uri": "https://localhost:8080/",
     "height": 476
    },
    "id": "FEN8n9kfb28p",
    "outputId": "bcfdbde5-0512-4f35-9c19-960250a15fe7"
   },
   "outputs": [
    {
     "data": {
      "text/html": [
       "<div>\n",
       "<style scoped>\n",
       "    .dataframe tbody tr th:only-of-type {\n",
       "        vertical-align: middle;\n",
       "    }\n",
       "\n",
       "    .dataframe tbody tr th {\n",
       "        vertical-align: top;\n",
       "    }\n",
       "\n",
       "    .dataframe thead th {\n",
       "        text-align: right;\n",
       "    }\n",
       "</style>\n",
       "<table border=\"1\" class=\"dataframe\">\n",
       "  <thead>\n",
       "    <tr style=\"text-align: right;\">\n",
       "      <th></th>\n",
       "      <th>Nome</th>\n",
       "      <th>Tipo</th>\n",
       "      <th>Tipo 2</th>\n",
       "      <th>Peso</th>\n",
       "      <th>Temperamento</th>\n",
       "      <th>Preço</th>\n",
       "      <th>Inteligência</th>\n",
       "      <th>Nota de guarda</th>\n",
       "      <th>Popularidade nos EUA</th>\n",
       "      <th>Grupo Tipo</th>\n",
       "    </tr>\n",
       "  </thead>\n",
       "  <tbody>\n",
       "    <tr>\n",
       "      <th>159</th>\n",
       "      <td>Norwegian Lundehund</td>\n",
       "      <td>Non Sporting</td>\n",
       "      <td>Northern</td>\n",
       "      <td>8.0</td>\n",
       "      <td>Alert, Energetic, Loyal, Protective</td>\n",
       "      <td>500.0</td>\n",
       "      <td>NaN</td>\n",
       "      <td>4.0</td>\n",
       "      <td>190.0</td>\n",
       "      <td>Companhia</td>\n",
       "    </tr>\n",
       "    <tr>\n",
       "      <th>211</th>\n",
       "      <td>Sloughi</td>\n",
       "      <td>Hound</td>\n",
       "      <td>Sight</td>\n",
       "      <td>28.0</td>\n",
       "      <td>Alert, Faithful, Intelligent, Sensitive, Indep...</td>\n",
       "      <td>900.0</td>\n",
       "      <td>NaN</td>\n",
       "      <td>5.0</td>\n",
       "      <td>188.0</td>\n",
       "      <td>Companhia</td>\n",
       "    </tr>\n",
       "    <tr>\n",
       "      <th>114</th>\n",
       "      <td>Hound</td>\n",
       "      <td>Hound</td>\n",
       "      <td>Scenthound</td>\n",
       "      <td>32.0</td>\n",
       "      <td>Independent, Intelligent, Kind, Loving, Loyal,...</td>\n",
       "      <td>500.0</td>\n",
       "      <td>46.0</td>\n",
       "      <td>2.0</td>\n",
       "      <td>187.0</td>\n",
       "      <td>Companhia</td>\n",
       "    </tr>\n",
       "    <tr>\n",
       "      <th>96</th>\n",
       "      <td>Foxhound</td>\n",
       "      <td>Hound</td>\n",
       "      <td>Scenthound</td>\n",
       "      <td>32.0</td>\n",
       "      <td>Independent, Intelligent, Kind, Loving, Loyal,...</td>\n",
       "      <td>500.0</td>\n",
       "      <td>46.0</td>\n",
       "      <td>2.0</td>\n",
       "      <td>187.0</td>\n",
       "      <td>Companhia</td>\n",
       "    </tr>\n",
       "    <tr>\n",
       "      <th>163</th>\n",
       "      <td>Otterhound</td>\n",
       "      <td>Hound</td>\n",
       "      <td>Scenthound</td>\n",
       "      <td>41.0</td>\n",
       "      <td>Amiable, Boisterous, Even-tempered</td>\n",
       "      <td>550.0</td>\n",
       "      <td>46.0</td>\n",
       "      <td>2.0</td>\n",
       "      <td>186.0</td>\n",
       "      <td>Companhia</td>\n",
       "    </tr>\n",
       "    <tr>\n",
       "      <th>65</th>\n",
       "      <td>Cirneco dell'Etna</td>\n",
       "      <td>Hound</td>\n",
       "      <td>Sight</td>\n",
       "      <td>11.0</td>\n",
       "      <td>Affectionate, Gentle, Lively</td>\n",
       "      <td>900.0</td>\n",
       "      <td>NaN</td>\n",
       "      <td>3.0</td>\n",
       "      <td>184.0</td>\n",
       "      <td>Companhia</td>\n",
       "    </tr>\n",
       "    <tr>\n",
       "      <th>112</th>\n",
       "      <td>Harrier</td>\n",
       "      <td>Hound</td>\n",
       "      <td>Scenthound</td>\n",
       "      <td>22.0</td>\n",
       "      <td>Active, Cheerful, Friendly, Outgoing, Sweet-te...</td>\n",
       "      <td>350.0</td>\n",
       "      <td>NaN</td>\n",
       "      <td>2.0</td>\n",
       "      <td>183.0</td>\n",
       "      <td>Companhia</td>\n",
       "    </tr>\n",
       "    <tr>\n",
       "      <th>76</th>\n",
       "      <td>Dandi Dinmont Terrier</td>\n",
       "      <td>Terrier</td>\n",
       "      <td>Terrier</td>\n",
       "      <td>10.0</td>\n",
       "      <td>Affectionate, Companionable, Determined, Fun-l...</td>\n",
       "      <td>1500.0</td>\n",
       "      <td>62.0</td>\n",
       "      <td>3.0</td>\n",
       "      <td>182.0</td>\n",
       "      <td>Companhia</td>\n",
       "    </tr>\n",
       "    <tr>\n",
       "      <th>62</th>\n",
       "      <td>Chinook</td>\n",
       "      <td>Working</td>\n",
       "      <td>Northern</td>\n",
       "      <td>32.0</td>\n",
       "      <td>Alert, Calm, Dignified, Friendly, Responsive</td>\n",
       "      <td>900.0</td>\n",
       "      <td>NaN</td>\n",
       "      <td>4.0</td>\n",
       "      <td>179.0</td>\n",
       "      <td>Trabalho ou Esporte</td>\n",
       "    </tr>\n",
       "    <tr>\n",
       "      <th>82</th>\n",
       "      <td>English Coonhound</td>\n",
       "      <td>Hound</td>\n",
       "      <td>Scenthound</td>\n",
       "      <td>26.0</td>\n",
       "      <td>Active, Energetic, High-strung, Loyal</td>\n",
       "      <td>1100.0</td>\n",
       "      <td>NaN</td>\n",
       "      <td>4.0</td>\n",
       "      <td>178.0</td>\n",
       "      <td>Companhia</td>\n",
       "    </tr>\n",
       "  </tbody>\n",
       "</table>\n",
       "</div>"
      ],
      "text/plain": [
       "                      Nome          Tipo      Tipo 2  Peso  \\\n",
       "159    Norwegian Lundehund  Non Sporting    Northern   8.0   \n",
       "211                Sloughi         Hound       Sight  28.0   \n",
       "114                  Hound         Hound  Scenthound  32.0   \n",
       "96                Foxhound         Hound  Scenthound  32.0   \n",
       "163             Otterhound         Hound  Scenthound  41.0   \n",
       "65       Cirneco dell'Etna         Hound       Sight  11.0   \n",
       "112                Harrier         Hound  Scenthound  22.0   \n",
       "76   Dandi Dinmont Terrier       Terrier     Terrier  10.0   \n",
       "62                 Chinook       Working    Northern  32.0   \n",
       "82       English Coonhound         Hound  Scenthound  26.0   \n",
       "\n",
       "                                          Temperamento   Preço  Inteligência  \\\n",
       "159                Alert, Energetic, Loyal, Protective   500.0           NaN   \n",
       "211  Alert, Faithful, Intelligent, Sensitive, Indep...   900.0           NaN   \n",
       "114  Independent, Intelligent, Kind, Loving, Loyal,...   500.0          46.0   \n",
       "96   Independent, Intelligent, Kind, Loving, Loyal,...   500.0          46.0   \n",
       "163                 Amiable, Boisterous, Even-tempered   550.0          46.0   \n",
       "65                        Affectionate, Gentle, Lively   900.0           NaN   \n",
       "112  Active, Cheerful, Friendly, Outgoing, Sweet-te...   350.0           NaN   \n",
       "76   Affectionate, Companionable, Determined, Fun-l...  1500.0          62.0   \n",
       "62        Alert, Calm, Dignified, Friendly, Responsive   900.0           NaN   \n",
       "82               Active, Energetic, High-strung, Loyal  1100.0           NaN   \n",
       "\n",
       "     Nota de guarda  Popularidade nos EUA           Grupo Tipo  \n",
       "159             4.0                 190.0            Companhia  \n",
       "211             5.0                 188.0            Companhia  \n",
       "114             2.0                 187.0            Companhia  \n",
       "96              2.0                 187.0            Companhia  \n",
       "163             2.0                 186.0            Companhia  \n",
       "65              3.0                 184.0            Companhia  \n",
       "112             2.0                 183.0            Companhia  \n",
       "76              3.0                 182.0            Companhia  \n",
       "62              4.0                 179.0  Trabalho ou Esporte  \n",
       "82              4.0                 178.0            Companhia  "
      ]
     },
     "execution_count": 10,
     "metadata": {},
     "output_type": "execute_result"
    }
   ],
   "source": [
    "caes_populares = dados.sort_values('Popularidade nos EUA', ascending = False)\n",
    "caes_populares.head(10)"
   ]
  },
  {
   "cell_type": "markdown",
   "id": "1EWXW-SzdFfq",
   "metadata": {
    "id": "1EWXW-SzdFfq"
   },
   "source": []
  },
  {
   "cell_type": "markdown",
   "id": "7kzPC9YKdKMR",
   "metadata": {
    "id": "7kzPC9YKdKMR"
   },
   "source": [
    "### Cães Mais Inteligentes"
   ]
  },
  {
   "cell_type": "code",
   "execution_count": 11,
   "id": "QsMd83yrdOep",
   "metadata": {
    "colab": {
     "base_uri": "https://localhost:8080/",
     "height": 250
    },
    "id": "QsMd83yrdOep",
    "outputId": "ab80a2d5-ecc0-4296-ea22-ae95ab0f779e"
   },
   "outputs": [
    {
     "data": {
      "text/html": [
       "<div>\n",
       "<style scoped>\n",
       "    .dataframe tbody tr th:only-of-type {\n",
       "        vertical-align: middle;\n",
       "    }\n",
       "\n",
       "    .dataframe tbody tr th {\n",
       "        vertical-align: top;\n",
       "    }\n",
       "\n",
       "    .dataframe thead th {\n",
       "        text-align: right;\n",
       "    }\n",
       "</style>\n",
       "<table border=\"1\" class=\"dataframe\">\n",
       "  <thead>\n",
       "    <tr style=\"text-align: right;\">\n",
       "      <th></th>\n",
       "      <th>Nome</th>\n",
       "      <th>Tipo</th>\n",
       "      <th>Tipo 2</th>\n",
       "      <th>Peso</th>\n",
       "      <th>Temperamento</th>\n",
       "      <th>Preço</th>\n",
       "      <th>Inteligência</th>\n",
       "      <th>Nota de guarda</th>\n",
       "      <th>Popularidade nos EUA</th>\n",
       "      <th>Grupo Tipo</th>\n",
       "    </tr>\n",
       "  </thead>\n",
       "  <tbody>\n",
       "    <tr>\n",
       "      <th>1</th>\n",
       "      <td>Afghan Hound</td>\n",
       "      <td>Sporting</td>\n",
       "      <td>Sight</td>\n",
       "      <td>28.0</td>\n",
       "      <td>Aloof, Clownish, Dignified, Happy, Independent</td>\n",
       "      <td>2250.0</td>\n",
       "      <td>79.0</td>\n",
       "      <td>1.0</td>\n",
       "      <td>93.0</td>\n",
       "      <td>Trabalho ou Esporte</td>\n",
       "    </tr>\n",
       "    <tr>\n",
       "      <th>17</th>\n",
       "      <td>Basenji</td>\n",
       "      <td>Hound</td>\n",
       "      <td>Sight</td>\n",
       "      <td>11.0</td>\n",
       "      <td>Affectionate, Alert, Curious, Energetic, Playf...</td>\n",
       "      <td>1100.0</td>\n",
       "      <td>78.0</td>\n",
       "      <td>5.0</td>\n",
       "      <td>84.0</td>\n",
       "      <td>Companhia</td>\n",
       "    </tr>\n",
       "    <tr>\n",
       "      <th>80</th>\n",
       "      <td>English Bulldog</td>\n",
       "      <td>Non Sporting</td>\n",
       "      <td>Companion</td>\n",
       "      <td>25.0</td>\n",
       "      <td>Aggressive, Courageous, Friendly, Loving, Soci...</td>\n",
       "      <td>1600.0</td>\n",
       "      <td>77.0</td>\n",
       "      <td>3.0</td>\n",
       "      <td>5.0</td>\n",
       "      <td>Companhia</td>\n",
       "    </tr>\n",
       "    <tr>\n",
       "      <th>64</th>\n",
       "      <td>Chow Chow</td>\n",
       "      <td>Non Sporting</td>\n",
       "      <td>Northern</td>\n",
       "      <td>26.0</td>\n",
       "      <td>Aloof, Independent, Loyal, Quiet, Intelligent,...</td>\n",
       "      <td>700.0</td>\n",
       "      <td>76.0</td>\n",
       "      <td>3.0</td>\n",
       "      <td>76.0</td>\n",
       "      <td>Companhia</td>\n",
       "    </tr>\n",
       "    <tr>\n",
       "      <th>40</th>\n",
       "      <td>Borzoi</td>\n",
       "      <td>Hound</td>\n",
       "      <td>Sight</td>\n",
       "      <td>41.0</td>\n",
       "      <td>Athletic, Gentle, Independent, Intelligent, Qu...</td>\n",
       "      <td>1100.0</td>\n",
       "      <td>75.0</td>\n",
       "      <td>1.0</td>\n",
       "      <td>102.0</td>\n",
       "      <td>Companhia</td>\n",
       "    </tr>\n",
       "  </tbody>\n",
       "</table>\n",
       "</div>"
      ],
      "text/plain": [
       "               Nome          Tipo     Tipo 2  Peso  \\\n",
       "1      Afghan Hound      Sporting      Sight  28.0   \n",
       "17          Basenji         Hound      Sight  11.0   \n",
       "80  English Bulldog  Non Sporting  Companion  25.0   \n",
       "64        Chow Chow  Non Sporting   Northern  26.0   \n",
       "40           Borzoi         Hound      Sight  41.0   \n",
       "\n",
       "                                         Temperamento   Preço  Inteligência  \\\n",
       "1      Aloof, Clownish, Dignified, Happy, Independent  2250.0          79.0   \n",
       "17  Affectionate, Alert, Curious, Energetic, Playf...  1100.0          78.0   \n",
       "80  Aggressive, Courageous, Friendly, Loving, Soci...  1600.0          77.0   \n",
       "64  Aloof, Independent, Loyal, Quiet, Intelligent,...   700.0          76.0   \n",
       "40  Athletic, Gentle, Independent, Intelligent, Qu...  1100.0          75.0   \n",
       "\n",
       "    Nota de guarda  Popularidade nos EUA           Grupo Tipo  \n",
       "1              1.0                  93.0  Trabalho ou Esporte  \n",
       "17             5.0                  84.0            Companhia  \n",
       "80             3.0                   5.0            Companhia  \n",
       "64             3.0                  76.0            Companhia  \n",
       "40             1.0                 102.0            Companhia  "
      ]
     },
     "execution_count": 11,
     "metadata": {},
     "output_type": "execute_result"
    }
   ],
   "source": [
    "caes_inteligentes = dados.sort_values('Inteligência', ascending = False)\n",
    "caes_inteligentes.head()\n"
   ]
  },
  {
   "cell_type": "markdown",
   "id": "b12512b3",
   "metadata": {
    "id": "b12512b3"
   },
   "source": [
    "# Quantidade de cães por faixa de preço"
   ]
  },
  {
   "cell_type": "code",
   "execution_count": 12,
   "id": "25638071",
   "metadata": {
    "colab": {
     "base_uri": "https://localhost:8080/"
    },
    "id": "25638071",
    "outputId": "524f91da-2b8c-48dd-aa4c-bcdd51481cce"
   },
   "outputs": [
    {
     "data": {
      "text/plain": [
       "0       De 500 a 1000\n",
       "1       Acima de 2000\n",
       "2       De 500 a 1000\n",
       "3       De 500 a 1000\n",
       "4      De 1000 a 1500\n",
       "            ...      \n",
       "142     De 500 a 1000\n",
       "143     De 500 a 1000\n",
       "144     De 500 a 1000\n",
       "145    De 1000 a 1500\n",
       "146     De 500 a 1000\n",
       "Name: Preço, Length: 147, dtype: category\n",
       "Categories (5, object): ['De 0 a 500' < 'De 500 a 1000' < 'De 1000 a 1500' < 'De 1500 a 2000' < 'Acima de 2000']"
      ]
     },
     "execution_count": 12,
     "metadata": {},
     "output_type": "execute_result"
    }
   ],
   "source": [
    "classe = [0, 500, 1000, 1500, 2000, 10000]\n",
    "labels = ['De 0 a 500', 'De 500 a 1000', 'De 1000 a 1500', 'De 1500 a 2000', 'Acima de 2000']\n",
    "dados_preco = pd.cut(dados_new['Preço'], labels = labels, bins = classe)\n",
    "dados_preco"
   ]
  },
  {
   "cell_type": "code",
   "execution_count": 13,
   "id": "63dc8a36",
   "metadata": {
    "colab": {
     "base_uri": "https://localhost:8080/"
    },
    "id": "63dc8a36",
    "outputId": "42116cce-119e-4e0d-ac46-f5b5491382ed"
   },
   "outputs": [
    {
     "data": {
      "text/plain": [
       "De 500 a 1000     72\n",
       "De 1000 a 1500    46\n",
       "De 0 a 500        14\n",
       "De 1500 a 2000    12\n",
       "Acima de 2000      3\n",
       "Name: Preço, dtype: int64"
      ]
     },
     "execution_count": 13,
     "metadata": {},
     "output_type": "execute_result"
    }
   ],
   "source": [
    "tabela_dados_preco = dados_preco.value_counts()\n",
    "tabela_dados_preco"
   ]
  },
  {
   "cell_type": "code",
   "execution_count": 14,
   "id": "13afde6f",
   "metadata": {
    "id": "13afde6f"
   },
   "outputs": [],
   "source": [
    "tabela_dados_preco = tabela_dados_preco.to_frame()\n"
   ]
  },
  {
   "cell_type": "code",
   "execution_count": 15,
   "id": "2b7d2a90",
   "metadata": {
    "colab": {
     "base_uri": "https://localhost:8080/",
     "height": 206
    },
    "id": "2b7d2a90",
    "outputId": "8e615e5b-a9b9-4581-f8b3-16ca41c3a525"
   },
   "outputs": [
    {
     "data": {
      "text/html": [
       "<div>\n",
       "<style scoped>\n",
       "    .dataframe tbody tr th:only-of-type {\n",
       "        vertical-align: middle;\n",
       "    }\n",
       "\n",
       "    .dataframe tbody tr th {\n",
       "        vertical-align: top;\n",
       "    }\n",
       "\n",
       "    .dataframe thead th {\n",
       "        text-align: right;\n",
       "    }\n",
       "</style>\n",
       "<table border=\"1\" class=\"dataframe\">\n",
       "  <thead>\n",
       "    <tr style=\"text-align: right;\">\n",
       "      <th></th>\n",
       "      <th>Quantidade</th>\n",
       "    </tr>\n",
       "  </thead>\n",
       "  <tbody>\n",
       "    <tr>\n",
       "      <th>De 500 a 1000</th>\n",
       "      <td>72</td>\n",
       "    </tr>\n",
       "    <tr>\n",
       "      <th>De 1000 a 1500</th>\n",
       "      <td>46</td>\n",
       "    </tr>\n",
       "    <tr>\n",
       "      <th>De 0 a 500</th>\n",
       "      <td>14</td>\n",
       "    </tr>\n",
       "    <tr>\n",
       "      <th>De 1500 a 2000</th>\n",
       "      <td>12</td>\n",
       "    </tr>\n",
       "    <tr>\n",
       "      <th>Acima de 2000</th>\n",
       "      <td>3</td>\n",
       "    </tr>\n",
       "  </tbody>\n",
       "</table>\n",
       "</div>"
      ],
      "text/plain": [
       "                Quantidade\n",
       "De 500 a 1000           72\n",
       "De 1000 a 1500          46\n",
       "De 0 a 500              14\n",
       "De 1500 a 2000          12\n",
       "Acima de 2000            3"
      ]
     },
     "execution_count": 15,
     "metadata": {},
     "output_type": "execute_result"
    }
   ],
   "source": [
    "tabela_dados_preco = tabela_dados_preco.rename(columns = {'Preço': 'Quantidade', 'Index': 'Faixa de Preço'})\n",
    "tabela_dados_preco"
   ]
  },
  {
   "cell_type": "code",
   "execution_count": 16,
   "id": "f6a15a94",
   "metadata": {
    "colab": {
     "base_uri": "https://localhost:8080/",
     "height": 589
    },
    "id": "f6a15a94",
    "outputId": "0f5f00c5-b2a2-4007-b4ab-f257e156c591"
   },
   "outputs": [
    {
     "data": {
      "text/plain": [
       "Text(0.5, 1.0, 'Quantidade de Cães por Faixa de Preço')"
      ]
     },
     "execution_count": 16,
     "metadata": {},
     "output_type": "execute_result"
    },
    {
     "data": {
      "image/png": "[encoded data removed]",
      "text/plain": [
       "<Figure size 1080x576 with 1 Axes>"
      ]
     },
     "metadata": {
      "needs_background": "light"
     },
     "output_type": "display_data"
    }
   ],
   "source": [
    "fig = tabela_dados_preco.plot.bar(width = 1)\n",
    "fig.figure.set_size_inches(15, 8)\n",
    "fig.set_title('Quantidade de Cães por Faixa de Preço', fontsize = 15)"
   ]
  },
  {
   "cell_type": "code",
   "execution_count": 17,
   "id": "F5sXlzAV3uJ6",
   "metadata": {
    "colab": {
     "base_uri": "https://localhost:8080/",
     "height": 354
    },
    "id": "F5sXlzAV3uJ6",
    "outputId": "ae066350-7018-443b-89c8-e132a319d280"
   },
   "outputs": [
    {
     "data": {
      "text/html": [
       "<div>\n",
       "<style scoped>\n",
       "    .dataframe tbody tr th:only-of-type {\n",
       "        vertical-align: middle;\n",
       "    }\n",
       "\n",
       "    .dataframe tbody tr th {\n",
       "        vertical-align: top;\n",
       "    }\n",
       "\n",
       "    .dataframe thead th {\n",
       "        text-align: right;\n",
       "    }\n",
       "</style>\n",
       "<table border=\"1\" class=\"dataframe\">\n",
       "  <thead>\n",
       "    <tr style=\"text-align: right;\">\n",
       "      <th></th>\n",
       "      <th>Nome</th>\n",
       "      <th>Tipo</th>\n",
       "      <th>Tipo 2</th>\n",
       "      <th>Peso</th>\n",
       "      <th>Temperamento</th>\n",
       "      <th>Preço</th>\n",
       "      <th>Inteligência</th>\n",
       "      <th>Nota de guarda</th>\n",
       "      <th>Popularidade nos EUA</th>\n",
       "      <th>Grupo Tipo</th>\n",
       "      <th>Faixa de Valor</th>\n",
       "    </tr>\n",
       "  </thead>\n",
       "  <tbody>\n",
       "    <tr>\n",
       "      <th>0</th>\n",
       "      <td>Affenpinscher</td>\n",
       "      <td>Toy</td>\n",
       "      <td>Companion</td>\n",
       "      <td>4.0</td>\n",
       "      <td>Active, Adventurous, Curious, Fun-loving, Play...</td>\n",
       "      <td>1000.0</td>\n",
       "      <td>37.0</td>\n",
       "      <td>1.0</td>\n",
       "      <td>147.0</td>\n",
       "      <td>Companhia</td>\n",
       "      <td>De 500 a 1000</td>\n",
       "    </tr>\n",
       "    <tr>\n",
       "      <th>1</th>\n",
       "      <td>Afghan Hound</td>\n",
       "      <td>Sporting</td>\n",
       "      <td>Sight</td>\n",
       "      <td>28.0</td>\n",
       "      <td>Aloof, Clownish, Dignified, Happy, Independent</td>\n",
       "      <td>2250.0</td>\n",
       "      <td>79.0</td>\n",
       "      <td>1.0</td>\n",
       "      <td>93.0</td>\n",
       "      <td>Trabalho ou Esporte</td>\n",
       "      <td>Acima de 2000</td>\n",
       "    </tr>\n",
       "    <tr>\n",
       "      <th>2</th>\n",
       "      <td>Airedale Terrier</td>\n",
       "      <td>Terrier</td>\n",
       "      <td>Terrier</td>\n",
       "      <td>26.0</td>\n",
       "      <td>Alert, Confident, Courageous, Friendly, Intell...</td>\n",
       "      <td>700.0</td>\n",
       "      <td>29.0</td>\n",
       "      <td>4.0</td>\n",
       "      <td>55.0</td>\n",
       "      <td>Companhia</td>\n",
       "      <td>De 500 a 1000</td>\n",
       "    </tr>\n",
       "    <tr>\n",
       "      <th>3</th>\n",
       "      <td>Akita</td>\n",
       "      <td>Working</td>\n",
       "      <td>Herding</td>\n",
       "      <td>44.0</td>\n",
       "      <td>Alert, Courageous, Dignified, Docile, Friendly...</td>\n",
       "      <td>1000.0</td>\n",
       "      <td>54.0</td>\n",
       "      <td>5.0</td>\n",
       "      <td>47.0</td>\n",
       "      <td>Trabalho ou Esporte</td>\n",
       "      <td>De 500 a 1000</td>\n",
       "    </tr>\n",
       "    <tr>\n",
       "      <th>4</th>\n",
       "      <td>Alaskan Malamute</td>\n",
       "      <td>Working</td>\n",
       "      <td>Northern</td>\n",
       "      <td>40.0</td>\n",
       "      <td>Affectionate, Devoted, Dignified, Friendly, Lo...</td>\n",
       "      <td>1350.0</td>\n",
       "      <td>50.0</td>\n",
       "      <td>5.0</td>\n",
       "      <td>59.0</td>\n",
       "      <td>Trabalho ou Esporte</td>\n",
       "      <td>De 1000 a 1500</td>\n",
       "    </tr>\n",
       "  </tbody>\n",
       "</table>\n",
       "</div>"
      ],
      "text/plain": [
       "               Nome      Tipo     Tipo 2  Peso  \\\n",
       "0     Affenpinscher       Toy  Companion   4.0   \n",
       "1      Afghan Hound  Sporting      Sight  28.0   \n",
       "2  Airedale Terrier   Terrier    Terrier  26.0   \n",
       "3             Akita   Working    Herding  44.0   \n",
       "4  Alaskan Malamute   Working   Northern  40.0   \n",
       "\n",
       "                                        Temperamento   Preço  Inteligência  \\\n",
       "0  Active, Adventurous, Curious, Fun-loving, Play...  1000.0          37.0   \n",
       "1     Aloof, Clownish, Dignified, Happy, Independent  2250.0          79.0   \n",
       "2  Alert, Confident, Courageous, Friendly, Intell...   700.0          29.0   \n",
       "3  Alert, Courageous, Dignified, Docile, Friendly...  1000.0          54.0   \n",
       "4  Affectionate, Devoted, Dignified, Friendly, Lo...  1350.0          50.0   \n",
       "\n",
       "   Nota de guarda  Popularidade nos EUA           Grupo Tipo  Faixa de Valor  \n",
       "0             1.0                 147.0            Companhia   De 500 a 1000  \n",
       "1             1.0                  93.0  Trabalho ou Esporte   Acima de 2000  \n",
       "2             4.0                  55.0            Companhia   De 500 a 1000  \n",
       "3             5.0                  47.0  Trabalho ou Esporte   De 500 a 1000  \n",
       "4             5.0                  59.0  Trabalho ou Esporte  De 1000 a 1500  "
      ]
     },
     "execution_count": 17,
     "metadata": {},
     "output_type": "execute_result"
    }
   ],
   "source": [
    "dados_new['Faixa de Valor'] = dados_preco\n",
    "dados_new.head()"
   ]
  },
  {
   "cell_type": "markdown",
   "id": "c1d4390a",
   "metadata": {
    "id": "c1d4390a"
   },
   "source": [
    "## Quantidade de Cães por faixa de valor e Tipo"
   ]
  },
  {
   "cell_type": "code",
   "execution_count": 18,
   "id": "aacd52c4",
   "metadata": {
    "colab": {
     "base_uri": "https://localhost:8080/",
     "height": 237
    },
    "id": "aacd52c4",
    "outputId": "8818a46d-7154-4f62-ef3f-b1e4799d0579"
   },
   "outputs": [
    {
     "data": {
      "text/html": [
       "<div>\n",
       "<style scoped>\n",
       "    .dataframe tbody tr th:only-of-type {\n",
       "        vertical-align: middle;\n",
       "    }\n",
       "\n",
       "    .dataframe tbody tr th {\n",
       "        vertical-align: top;\n",
       "    }\n",
       "\n",
       "    .dataframe thead th {\n",
       "        text-align: right;\n",
       "    }\n",
       "</style>\n",
       "<table border=\"1\" class=\"dataframe\">\n",
       "  <thead>\n",
       "    <tr style=\"text-align: right;\">\n",
       "      <th>Grupo Tipo</th>\n",
       "      <th>Companhia</th>\n",
       "      <th>Trabalho ou Esporte</th>\n",
       "    </tr>\n",
       "    <tr>\n",
       "      <th>Faixa de Valor</th>\n",
       "      <th></th>\n",
       "      <th></th>\n",
       "    </tr>\n",
       "  </thead>\n",
       "  <tbody>\n",
       "    <tr>\n",
       "      <th>De 0 a 500</th>\n",
       "      <td>9</td>\n",
       "      <td>5</td>\n",
       "    </tr>\n",
       "    <tr>\n",
       "      <th>De 500 a 1000</th>\n",
       "      <td>44</td>\n",
       "      <td>28</td>\n",
       "    </tr>\n",
       "    <tr>\n",
       "      <th>De 1000 a 1500</th>\n",
       "      <td>16</td>\n",
       "      <td>30</td>\n",
       "    </tr>\n",
       "    <tr>\n",
       "      <th>De 1500 a 2000</th>\n",
       "      <td>7</td>\n",
       "      <td>5</td>\n",
       "    </tr>\n",
       "    <tr>\n",
       "      <th>Acima de 2000</th>\n",
       "      <td>2</td>\n",
       "      <td>1</td>\n",
       "    </tr>\n",
       "  </tbody>\n",
       "</table>\n",
       "</div>"
      ],
      "text/plain": [
       "Grupo Tipo      Companhia  Trabalho ou Esporte\n",
       "Faixa de Valor                                \n",
       "De 0 a 500              9                    5\n",
       "De 500 a 1000          44                   28\n",
       "De 1000 a 1500         16                   30\n",
       "De 1500 a 2000          7                    5\n",
       "Acima de 2000           2                    1"
      ]
     },
     "execution_count": 18,
     "metadata": {},
     "output_type": "execute_result"
    }
   ],
   "source": [
    "tabela_pop_tipo_valor = pd.crosstab(dados_new['Faixa de Valor'], dados_new['Grupo Tipo'])\n",
    "tabela_pop_tipo_valor"
   ]
  },
  {
   "cell_type": "markdown",
   "id": "fc188889",
   "metadata": {
    "id": "fc188889"
   },
   "source": [
    "## Nota de popularidade média por faixa de valor e Tipo"
   ]
  },
  {
   "cell_type": "code",
   "execution_count": 19,
   "id": "d27f3959",
   "metadata": {
    "colab": {
     "base_uri": "https://localhost:8080/",
     "height": 237
    },
    "id": "d27f3959",
    "outputId": "201dd359-e3d2-4c6c-82c5-f3179fcb09ed"
   },
   "outputs": [
    {
     "data": {
      "text/html": [
       "<div>\n",
       "<style scoped>\n",
       "    .dataframe tbody tr th:only-of-type {\n",
       "        vertical-align: middle;\n",
       "    }\n",
       "\n",
       "    .dataframe tbody tr th {\n",
       "        vertical-align: top;\n",
       "    }\n",
       "\n",
       "    .dataframe thead th {\n",
       "        text-align: right;\n",
       "    }\n",
       "</style>\n",
       "<table border=\"1\" class=\"dataframe\">\n",
       "  <thead>\n",
       "    <tr style=\"text-align: right;\">\n",
       "      <th>Grupo Tipo</th>\n",
       "      <th>Companhia</th>\n",
       "      <th>Trabalho ou Esporte</th>\n",
       "    </tr>\n",
       "    <tr>\n",
       "      <th>Faixa de Valor</th>\n",
       "      <th></th>\n",
       "      <th></th>\n",
       "    </tr>\n",
       "  </thead>\n",
       "  <tbody>\n",
       "    <tr>\n",
       "      <th>De 0 a 500</th>\n",
       "      <td>79.67</td>\n",
       "      <td>72.25</td>\n",
       "    </tr>\n",
       "    <tr>\n",
       "      <th>De 500 a 1000</th>\n",
       "      <td>76.21</td>\n",
       "      <td>96.22</td>\n",
       "    </tr>\n",
       "    <tr>\n",
       "      <th>De 1000 a 1500</th>\n",
       "      <td>92.36</td>\n",
       "      <td>98.42</td>\n",
       "    </tr>\n",
       "    <tr>\n",
       "      <th>De 1500 a 2000</th>\n",
       "      <td>130.20</td>\n",
       "      <td>91.40</td>\n",
       "    </tr>\n",
       "    <tr>\n",
       "      <th>Acima de 2000</th>\n",
       "      <td>79.00</td>\n",
       "      <td>93.00</td>\n",
       "    </tr>\n",
       "  </tbody>\n",
       "</table>\n",
       "</div>"
      ],
      "text/plain": [
       "Grupo Tipo      Companhia  Trabalho ou Esporte\n",
       "Faixa de Valor                                \n",
       "De 0 a 500          79.67                72.25\n",
       "De 500 a 1000       76.21                96.22\n",
       "De 1000 a 1500      92.36                98.42\n",
       "De 1500 a 2000     130.20                91.40\n",
       "Acima de 2000       79.00                93.00"
      ]
     },
     "execution_count": 19,
     "metadata": {},
     "output_type": "execute_result"
    }
   ],
   "source": [
    "tabela_pop_tipo_valor2 = pd.crosstab(dados_new['Faixa de Valor'], \n",
    "                                     dados_new['Grupo Tipo'], aggfunc = 'mean', values = dados['Popularidade nos EUA'])\n",
    "tabela_pop_tipo_valor2 = tabela_pop_tipo_valor2.round(2)\n",
    "tabela_pop_tipo_valor2"
   ]
  },
  {
   "cell_type": "markdown",
   "id": "6bd55d34",
   "metadata": {
    "id": "6bd55d34"
   },
   "source": [
    "## Nota Média de Inteligência por faixa de valor"
   ]
  },
  {
   "cell_type": "code",
   "execution_count": 20,
   "id": "a946016e",
   "metadata": {
    "colab": {
     "base_uri": "https://localhost:8080/",
     "height": 237
    },
    "id": "a946016e",
    "outputId": "570aa056-caef-4d42-8e26-308ee854b799"
   },
   "outputs": [
    {
     "data": {
      "text/html": [
       "<div>\n",
       "<style scoped>\n",
       "    .dataframe tbody tr th:only-of-type {\n",
       "        vertical-align: middle;\n",
       "    }\n",
       "\n",
       "    .dataframe tbody tr th {\n",
       "        vertical-align: top;\n",
       "    }\n",
       "\n",
       "    .dataframe thead th {\n",
       "        text-align: right;\n",
       "    }\n",
       "</style>\n",
       "<table border=\"1\" class=\"dataframe\">\n",
       "  <thead>\n",
       "    <tr style=\"text-align: right;\">\n",
       "      <th>Grupo Tipo</th>\n",
       "      <th>Companhia</th>\n",
       "      <th>Trabalho ou Esporte</th>\n",
       "    </tr>\n",
       "    <tr>\n",
       "      <th>Faixa de Valor</th>\n",
       "      <th></th>\n",
       "      <th></th>\n",
       "    </tr>\n",
       "  </thead>\n",
       "  <tbody>\n",
       "    <tr>\n",
       "      <th>De 0 a 500</th>\n",
       "      <td>51.00</td>\n",
       "      <td>28.33</td>\n",
       "    </tr>\n",
       "    <tr>\n",
       "      <th>De 500 a 1000</th>\n",
       "      <td>40.48</td>\n",
       "      <td>42.74</td>\n",
       "    </tr>\n",
       "    <tr>\n",
       "      <th>De 1000 a 1500</th>\n",
       "      <td>34.00</td>\n",
       "      <td>34.59</td>\n",
       "    </tr>\n",
       "    <tr>\n",
       "      <th>De 1500 a 2000</th>\n",
       "      <td>39.00</td>\n",
       "      <td>39.00</td>\n",
       "    </tr>\n",
       "    <tr>\n",
       "      <th>Acima de 2000</th>\n",
       "      <td>61.00</td>\n",
       "      <td>79.00</td>\n",
       "    </tr>\n",
       "  </tbody>\n",
       "</table>\n",
       "</div>"
      ],
      "text/plain": [
       "Grupo Tipo      Companhia  Trabalho ou Esporte\n",
       "Faixa de Valor                                \n",
       "De 0 a 500          51.00                28.33\n",
       "De 500 a 1000       40.48                42.74\n",
       "De 1000 a 1500      34.00                34.59\n",
       "De 1500 a 2000      39.00                39.00\n",
       "Acima de 2000       61.00                79.00"
      ]
     },
     "execution_count": 20,
     "metadata": {},
     "output_type": "execute_result"
    }
   ],
   "source": [
    "tabela_pop_tipo_valor3 = pd.crosstab(dados_new['Faixa de Valor'], \n",
    "                                     dados_new['Grupo Tipo'], aggfunc = 'mean', values = dados['Inteligência']).round(2)\n",
    "tabela_pop_tipo_valor3"
   ]
  },
  {
   "cell_type": "markdown",
   "id": "51f422f2",
   "metadata": {
    "id": "51f422f2"
   },
   "source": [
    "# Distribuição de Cães por Preço"
   ]
  },
  {
   "cell_type": "code",
   "execution_count": 21,
   "id": "d3353b1d",
   "metadata": {
    "colab": {
     "base_uri": "https://localhost:8080/",
     "height": 595
    },
    "id": "d3353b1d",
    "outputId": "9eefc30d-ef79-474f-f13f-ea8c0168d4c1"
   },
   "outputs": [
    {
     "data": {
      "text/plain": [
       "Text(0.5, 0, 'Preço em $')"
      ]
     },
     "execution_count": 21,
     "metadata": {},
     "output_type": "execute_result"
    },
    {
     "data": {
      "image/png": "[encoded data removed]",
      "text/plain": [
       "<Figure size 1080x576 with 1 Axes>"
      ]
     },
     "metadata": {},
     "output_type": "display_data"
    }
   ],
   "source": [
    "sns.set_palette('YlGn_r')\n",
    "sns.set_style('darkgrid')\n",
    "ax = sns.distplot(dados.Preço, kde = False, bins = 20)\n",
    "ax.figure.set_size_inches(15, 8)\n",
    "ax.set_title('Distribuição de Cães por Preço', {'fontsize': 18})\n",
    "ax.set_ylabel('Quantidade', fontsize = 14)\n",
    "ax.set_xlabel('Preço em $', fontsize = 14)"
   ]
  },
  {
   "cell_type": "code",
   "execution_count": 22,
   "id": "225332db",
   "metadata": {
    "id": "225332db"
   },
   "outputs": [],
   "source": [
    "moda = dados.Preço.mode()"
   ]
  },
  {
   "cell_type": "code",
   "execution_count": 23,
   "id": "97f9fda2",
   "metadata": {
    "id": "97f9fda2"
   },
   "outputs": [],
   "source": [
    "mediana = dados.Preço.median()"
   ]
  },
  {
   "cell_type": "code",
   "execution_count": 24,
   "id": "97ff3fc5",
   "metadata": {
    "id": "97ff3fc5"
   },
   "outputs": [],
   "source": [
    "media = dados.Preço.mean()"
   ]
  },
  {
   "cell_type": "code",
   "execution_count": 25,
   "id": "2dbba6f1",
   "metadata": {
    "colab": {
     "base_uri": "https://localhost:8080/"
    },
    "id": "2dbba6f1",
    "outputId": "5f356129-c85f-42f5-a1ca-1d6b1719aa7b"
   },
   "outputs": [
    {
     "name": "stdout",
     "output_type": "stream",
     "text": [
      "O valor modal dos preços é 0    900.0\n",
      "Name: Preço, dtype: float64 A mediana dos preços é 900.0 A média dos preços é 1053.8934426229507\n"
     ]
    }
   ],
   "source": [
    "print('O valor modal dos preços é {}'.format(moda),\n",
    "      'A mediana dos preços é {}'.format(mediana),\n",
    "      'A média dos preços é {}'.format(media)\n",
    "        )"
   ]
  },
  {
   "cell_type": "markdown",
   "id": "de02212d",
   "metadata": {
    "id": "de02212d"
   },
   "source": [
    "# Distribuição dos Cães por Peso"
   ]
  },
  {
   "cell_type": "code",
   "execution_count": 26,
   "id": "fa6cccc2",
   "metadata": {
    "colab": {
     "base_uri": "https://localhost:8080/",
     "height": 576
    },
    "id": "fa6cccc2",
    "outputId": "cb1aa0da-2252-4112-e372-2d6bd49f5f98"
   },
   "outputs": [
    {
     "data": {
      "image/png": "[encoded data removed]",
      "text/plain": [
       "<Figure size 1080x576 with 1 Axes>"
      ]
     },
     "metadata": {},
     "output_type": "display_data"
    }
   ],
   "source": [
    "sns.set_palette('Blues_r')\n",
    "ax = sns.distplot(dados_new.Inteligência, kde = False, bins = 20)\n",
    "ax.figure.set_size_inches(15,8)\n",
    "ax.set_title('Distribuição dos Cães por Nota de Inteligência', fontsize = 16)\n",
    "ax.set_ylabel('Quantidade', fontsize = 14)\n",
    "ax.set_xlabel('Notas de Inteligência', fontsize = 14)\n",
    "ax = ax"
   ]
  },
  {
   "cell_type": "markdown",
   "id": "0AuMgGZC8VqD",
   "metadata": {
    "id": "0AuMgGZC8VqD"
   },
   "source": [
    "## Inteligência por Faixa de Preço"
   ]
  },
  {
   "cell_type": "code",
   "execution_count": 27,
   "id": "BozVV9GC7UBp",
   "metadata": {
    "colab": {
     "base_uri": "https://localhost:8080/",
     "height": 540
    },
    "id": "BozVV9GC7UBp",
    "outputId": "ec60c039-55c3-445a-fc00-a869afddc9dd"
   },
   "outputs": [
    {
     "data": {
      "text/plain": [
       "Text(0, 0.5, 'Faixa de Valor')"
      ]
     },
     "execution_count": 27,
     "metadata": {},
     "output_type": "execute_result"
    },
    {
     "data": {
      "image/png": "[encoded data removed]",
      "text/plain": [
       "<Figure size 1080x576 with 1 Axes>"
      ]
     },
     "metadata": {},
     "output_type": "display_data"
    }
   ],
   "source": [
    "sns.set_palette('RdYlGn')\n",
    "ax = sns.boxplot(x = 'Inteligência', y = 'Faixa de Valor', data = dados_new, orient = 'h')\n",
    "ax.figure.set_size_inches(15, 8)\n",
    "ax.set_title('Inteligência por Faixa de Preço', {'fontsize': 18})\n",
    "ax.set_xlabel('Notas de Inteligência', fontsize = 14)\n",
    "ax.set_ylabel('Faixa de Valor', fontsize = 14)"
   ]
  },
  {
   "cell_type": "markdown",
   "id": "j1-yu40W6-G8",
   "metadata": {
    "id": "j1-yu40W6-G8"
   },
   "source": [
    "## Popularidade por Faixa de Preço"
   ]
  },
  {
   "cell_type": "code",
   "execution_count": 28,
   "id": "eQn-1FvR3Npq",
   "metadata": {
    "colab": {
     "base_uri": "https://localhost:8080/",
     "height": 535
    },
    "id": "eQn-1FvR3Npq",
    "outputId": "99446650-82d0-49fa-c867-3cdf4030cbcb"
   },
   "outputs": [
    {
     "data": {
      "text/plain": [
       "Text(0.5, 1.0, 'Popularidade por Faixa de Preço')"
      ]
     },
     "execution_count": 28,
     "metadata": {},
     "output_type": "execute_result"
    },
    {
     "data": {
      "image/png": "[encoded data removed]",
      "text/plain": [
       "<Figure size 1080x576 with 1 Axes>"
      ]
     },
     "metadata": {},
     "output_type": "display_data"
    }
   ],
   "source": [
    "sns.set_palette('hot_r')\n",
    "ax = sns.boxplot(x = 'Popularidade nos EUA', y = 'Faixa de Valor', data = dados_new, orient ='h')\n",
    "ax.figure.set_size_inches(15, 8)\n",
    "ax.set_title('Popularidade por Faixa de Preço', {'fontsize': 18})"
   ]
  },
  {
   "cell_type": "markdown",
   "id": "sNOxTpixhF0R",
   "metadata": {
    "id": "sNOxTpixhF0R"
   },
   "source": [
    "## Preço dos Cães por Tipo"
   ]
  },
  {
   "cell_type": "code",
   "execution_count": 29,
   "id": "oGA9b7sIhNCH",
   "metadata": {
    "colab": {
     "base_uri": "https://localhost:8080/",
     "height": 535
    },
    "id": "oGA9b7sIhNCH",
    "outputId": "0f5237b5-61a7-4a78-c489-ef2321223ea6"
   },
   "outputs": [
    {
     "data": {
      "text/plain": [
       "Text(0.5, 1.0, 'Preço por Tipo')"
      ]
     },
     "execution_count": 29,
     "metadata": {},
     "output_type": "execute_result"
    },
    {
     "data": {
      "image/png": "[encoded data removed]",
      "text/plain": [
       "<Figure size 1080x576 with 1 Axes>"
      ]
     },
     "metadata": {},
     "output_type": "display_data"
    }
   ],
   "source": [
    "sns.set_palette('Blues')\n",
    "ax = sns.boxplot(x = 'Preço', y = 'Tipo', data = dados, orient ='h')\n",
    "ax.figure.set_size_inches(15, 8)\n",
    "ax.set_title('Preço por Tipo', {'fontsize': 18})"
   ]
  },
  {
   "cell_type": "markdown",
   "id": "q2E9B8IWitIX",
   "metadata": {
    "id": "q2E9B8IWitIX"
   },
   "source": [
    "## Distribuição dos pesos"
   ]
  },
  {
   "cell_type": "code",
   "execution_count": 30,
   "id": "QDIsd734ir-y",
   "metadata": {
    "colab": {
     "base_uri": "https://localhost:8080/",
     "height": 591
    },
    "id": "QDIsd734ir-y",
    "outputId": "02a179ab-0513-457c-ca88-67111075db81"
   },
   "outputs": [
    {
     "data": {
      "text/plain": [
       "Text(0.5, 1.0, 'Distribuição dos Pesos')"
      ]
     },
     "execution_count": 30,
     "metadata": {},
     "output_type": "execute_result"
    },
    {
     "data": {
      "image/png": "[encoded data removed]",
      "text/plain": [
       "<Figure size 1080x576 with 1 Axes>"
      ]
     },
     "metadata": {},
     "output_type": "display_data"
    }
   ],
   "source": [
    "sns.set_palette('GnBu_r')\n",
    "ax = sns.distplot(dados['Peso'], kde = False, bins = 25)\n",
    "ax.figure.set_size_inches(15, 8)\n",
    "ax.set_title('Distribuição dos Pesos', fontsize = 18)"
   ]
  },
  {
   "cell_type": "markdown",
   "id": "uOKHzit6YDVN",
   "metadata": {
    "id": "uOKHzit6YDVN"
   },
   "source": [
    "## Variação de Preço Geral"
   ]
  },
  {
   "cell_type": "code",
   "execution_count": 31,
   "id": "0dd16367",
   "metadata": {
    "colab": {
     "base_uri": "https://localhost:8080/",
     "height": 497
    },
    "id": "0dd16367",
    "outputId": "7061ff81-cb27-46f9-9274-5a66276a7aae"
   },
   "outputs": [
    {
     "data": {
      "image/png": "[encoded data removed]",
      "text/plain": [
       "<Figure size 1080x576 with 1 Axes>"
      ]
     },
     "metadata": {},
     "output_type": "display_data"
    }
   ],
   "source": [
    "ax = sns.boxplot(x = 'Preço', data = dados_new)\n",
    "ax.figure.set_size_inches(15, 8)\n"
   ]
  },
  {
   "cell_type": "markdown",
   "id": "j_FtFfhnYVE3",
   "metadata": {
    "id": "j_FtFfhnYVE3"
   },
   "source": [
    "## Nota Média dos Cães mais populares agrupados por Tipo"
   ]
  },
  {
   "cell_type": "code",
   "execution_count": 32,
   "id": "18c347f0",
   "metadata": {
    "colab": {
     "base_uri": "https://localhost:8080/",
     "height": 269
    },
    "id": "18c347f0",
    "outputId": "ea920f86-51ef-4df3-abdb-94f032465f4e"
   },
   "outputs": [
    {
     "data": {
      "text/html": [
       "<div>\n",
       "<style scoped>\n",
       "    .dataframe tbody tr th:only-of-type {\n",
       "        vertical-align: middle;\n",
       "    }\n",
       "\n",
       "    .dataframe tbody tr th {\n",
       "        vertical-align: top;\n",
       "    }\n",
       "\n",
       "    .dataframe thead th {\n",
       "        text-align: right;\n",
       "    }\n",
       "</style>\n",
       "<table border=\"1\" class=\"dataframe\">\n",
       "  <thead>\n",
       "    <tr style=\"text-align: right;\">\n",
       "      <th></th>\n",
       "      <th>Tipo</th>\n",
       "      <th>Popularidade nos EUA</th>\n",
       "    </tr>\n",
       "  </thead>\n",
       "  <tbody>\n",
       "    <tr>\n",
       "      <th>0</th>\n",
       "      <td>Hound</td>\n",
       "      <td>110.76</td>\n",
       "    </tr>\n",
       "    <tr>\n",
       "      <th>1</th>\n",
       "      <td>Terrier</td>\n",
       "      <td>101.52</td>\n",
       "    </tr>\n",
       "    <tr>\n",
       "      <th>2</th>\n",
       "      <td>Sporting</td>\n",
       "      <td>71.66</td>\n",
       "    </tr>\n",
       "    <tr>\n",
       "      <th>3</th>\n",
       "      <td>Herding</td>\n",
       "      <td>66.70</td>\n",
       "    </tr>\n",
       "    <tr>\n",
       "      <th>4</th>\n",
       "      <td>Non Sporting</td>\n",
       "      <td>64.40</td>\n",
       "    </tr>\n",
       "    <tr>\n",
       "      <th>5</th>\n",
       "      <td>Toy</td>\n",
       "      <td>59.47</td>\n",
       "    </tr>\n",
       "    <tr>\n",
       "      <th>6</th>\n",
       "      <td>Working</td>\n",
       "      <td>42.60</td>\n",
       "    </tr>\n",
       "  </tbody>\n",
       "</table>\n",
       "</div>"
      ],
      "text/plain": [
       "           Tipo  Popularidade nos EUA\n",
       "0         Hound                110.76\n",
       "1       Terrier                101.52\n",
       "2      Sporting                 71.66\n",
       "3       Herding                 66.70\n",
       "4  Non Sporting                 64.40\n",
       "5           Toy                 59.47\n",
       "6       Working                 42.60"
      ]
     },
     "execution_count": 32,
     "metadata": {},
     "output_type": "execute_result"
    }
   ],
   "source": [
    "dados_popularidade = dados_new[['Tipo', 'Popularidade nos EUA']]\n",
    "tipo = dados_popularidade.groupby(['Tipo'])\n",
    "dados_tipo = tipo.mean()\n",
    "dados_tipo = dados_tipo.sort_values(by = 'Popularidade nos EUA', ascending = False)\n",
    "dados_tipo = dados_tipo.reset_index().round(2)\n",
    "dados_tipo"
   ]
  },
  {
   "cell_type": "code",
   "execution_count": 33,
   "id": "e79ba769",
   "metadata": {
    "colab": {
     "base_uri": "https://localhost:8080/",
     "height": 590
    },
    "id": "e79ba769",
    "outputId": "feac1c93-88fb-4296-b645-1aab966bfc82"
   },
   "outputs": [
    {
     "data": {
      "text/plain": [
       "Text(0.5, 1.0, 'Nota de Popularidade dos Cães por Tipo')"
      ]
     },
     "execution_count": 33,
     "metadata": {},
     "output_type": "execute_result"
    },
    {
     "data": {
      "image/png": "[encoded data removed]",
      "text/plain": [
       "<Figure size 1080x576 with 1 Axes>"
      ]
     },
     "metadata": {},
     "output_type": "display_data"
    }
   ],
   "source": [
    "fig2 = dados_tipo.plot.bar(x= 'Tipo', color = 'Maroon')\n",
    "fig2.figure.set_size_inches(15, 8)\n",
    "fig2.set_title('Nota de Popularidade dos Cães por Tipo', {'fontsize': 18})"
   ]
  },
  {
   "cell_type": "markdown",
   "id": "aRWNplLDaPx4",
   "metadata": {
    "id": "aRWNplLDaPx4"
   },
   "source": [
    "## Nota Inteligência Média agrupado por Tipo"
   ]
  },
  {
   "cell_type": "code",
   "execution_count": 34,
   "id": "d46ced3d",
   "metadata": {
    "id": "d46ced3d"
   },
   "outputs": [],
   "source": [
    "dados_inteligencia = dados_new[['Tipo', 'Inteligência']]\n",
    "inteligencia = dados_inteligencia.groupby(['Tipo'])\n",
    "dados_inteligencia = inteligencia.mean()\n",
    "dados_inteligencia = dados_inteligencia.sort_values(by = 'Inteligência', ascending = False)"
   ]
  },
  {
   "cell_type": "code",
   "execution_count": 35,
   "id": "75310714",
   "metadata": {
    "colab": {
     "base_uri": "https://localhost:8080/",
     "height": 590
    },
    "id": "75310714",
    "outputId": "e6cebdff-bbd8-4df3-d53b-b879a086ce4a"
   },
   "outputs": [
    {
     "data": {
      "text/plain": [
       "Text(0.5, 1.0, 'Nota de Inteligência dos Cães por Tipo')"
      ]
     },
     "execution_count": 35,
     "metadata": {},
     "output_type": "execute_result"
    },
    {
     "data": {
      "image/png": "[encoded data removed]",
      "text/plain": [
       "<Figure size 1080x576 with 1 Axes>"
      ]
     },
     "metadata": {},
     "output_type": "display_data"
    }
   ],
   "source": [
    "fig3 = dados_inteligencia.plot.bar(color = 'Orange')\n",
    "fig3.figure.set_size_inches(15, 8)\n",
    "fig3.set_title('Nota de Inteligência dos Cães por Tipo', {'fontsize': 18})"
   ]
  },
  {
   "cell_type": "code",
   "execution_count": null,
   "id": "a68be368",
   "metadata": {
    "id": "a68be368"
   },
   "outputs": [],
   "source": []
  }
 ],
 "metadata": {
  "colab": {
   "collapsed_sections": [],
   "provenance": []
  },
  "kernelspec": {
   "display_name": "Python 3 (ipykernel)",
   "language": "python",
   "name": "python3"
  },
  "language_info": {
   "codemirror_mode": {
    "name": "ipython",
    "version": 3
   },
   "file_extension": ".py",
   "mimetype": "text/x-python",
   "name": "python",
   "nbconvert_exporter": "python",
   "pygments_lexer": "ipython3",
   "version": "3.9.12"
  }
 },
 "nbformat": 4,
 "nbformat_minor": 5
}
